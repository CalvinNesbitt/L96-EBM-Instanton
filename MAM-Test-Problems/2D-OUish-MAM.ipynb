{
 "cells": [
  {
   "cell_type": "markdown",
   "metadata": {},
   "source": [
    "# 2D Ornstein Uhlenbeck Type System Instanton Calculation via MAM\n",
    "\n",
    "In this notebook we will use the MAM method outlined in [1] to calculate an instanton in a 2D OU type model. We will compare this to the analytic solution as well as the numerically integrated Hamilton Equations.\n",
    "\n",
    "- [1] Weinan, E., Ren, W. and Vanden-Eijnden, E., 2004. Minimum action method for the study of rare events. Communications on pure and applied mathematics, 57(5), pp.637-656."
   ]
  },
  {
   "cell_type": "code",
   "execution_count": 1,
   "metadata": {},
   "outputs": [],
   "source": [
    "# Standard Package imports\n",
    "\n",
    "import numpy as np\n",
    "import numpy.linalg as la\n",
    "import numpy.random as rm\n",
    "import matplotlib.pyplot as plt\n",
    "from tqdm.notebook import tqdm\n",
    "\n",
    "# MAM Algorithm\n",
    "from mam import Mam_alg"
   ]
  },
  {
   "cell_type": "markdown",
   "metadata": {},
   "source": [
    "# Problem Definition & Parameter Choices\n",
    "\n",
    "Here we define the drift function of the 2D OU system and specify our parameter choices."
   ]
  },
  {
   "cell_type": "code",
   "execution_count": 2,
   "metadata": {},
   "outputs": [],
   "source": [
    "# Drift Function Definition\n",
    "\n",
    "def a(t, phi, s):\n",
    "    \"\"\"Drift term\"\"\"\n",
    "    gamma1, gamma2, r = s\n",
    "    x, T = phi.T\n",
    "    return np.array([- gamma1 * (x + T), -gamma2 * (T - x)]).T"
   ]
  },
  {
   "cell_type": "code",
   "execution_count": 3,
   "metadata": {},
   "outputs": [],
   "source": [
    "# Parameter Specification\n",
    "\n",
    "# OU Parameters\n",
    "gamma1 = 0.5\n",
    "gamma2 = 0.25\n",
    "r = 0.1\n",
    "s = [gamma1, gamma2, r]\n",
    "\n",
    "# Covariance matrix\n",
    "sigma1 = 0.001\n",
    "sigma2 = 0.002\n",
    "D = np.zeros((2, 2))\n",
    "D[0, 0] = sigma1**2\n",
    "D[1, 1] = sigma2**2\n",
    "Dinv = la.inv(D)\n",
    "\n",
    "# Time\n",
    "t0 = 0\n",
    "tF = 10\n",
    "dt = 0.1\n",
    "steps = int((tF-t0)/dt)\n",
    "time = np.arange(t0, tF, dt)"
   ]
  },
  {
   "cell_type": "markdown",
   "metadata": {},
   "source": [
    "## MAM Set up\n",
    "\n",
    "Here we define the initial instanton path for the minimisation problem, specify bounds and create a MAM algorithm object."
   ]
  },
  {
   "cell_type": "code",
   "execution_count": 4,
   "metadata": {},
   "outputs": [],
   "source": [
    "# Instanton Initialisation\n",
    "\n",
    "initial_point = [0.1, 0.1]\n",
    "final_point = [0, 0]\n",
    "\n",
    "inst_ic = np.linspace(initial_point, final_point, steps)"
   ]
  },
  {
   "cell_type": "code",
   "execution_count": 5,
   "metadata": {},
   "outputs": [],
   "source": [
    "# \n",
    "# Example Bounds Grid - Useful should you want to specify your own bounds\n",
    "# -------------------\n",
    "# \n",
    "\n",
    "bnds = np.zeros((*inst_ic.shape, 2)) # indexed by Time, ndim, lower/upper\n",
    "\n",
    "# t = 0 Constraint\n",
    "bnds[0,...,0] = initial_point - 0.01 * np.ones(inst_ic.shape[1]) # Lower\n",
    "bnds[0,...,1] = initial_point + 0.01 * np.ones(inst_ic.shape[1]) # Upper\n",
    "\n",
    "# Bounds for t \\in (dt, T-dt)\n",
    "bnds[1:-1, ..., 0] = - 1\n",
    "bnds[1:-1, ..., 1] = 1\n",
    "\n",
    "# t = T Constraint\n",
    "bnds[-1,...,0] = final_point - 0.01 * np.ones(inst_ic.shape[1])\n",
    "bnds[-1,...,1] = final_point + 0.01 * np.ones(inst_ic.shape[1])"
   ]
  },
  {
   "cell_type": "code",
   "execution_count": 12,
   "metadata": {},
   "outputs": [],
   "source": [
    "# Object creation\n",
    "\n",
    "# ou_mam = Mam_alg(a, s, inst_ic, time, Dinv) # default bounds\n",
    "ou_mam = Mam_alg(a, s, inst_ic, time, Dinv, bnds=bnds) # specify bounds "
   ]
  },
  {
   "cell_type": "markdown",
   "metadata": {},
   "source": [
    "## Running MAM Algorithm\n",
    "\n",
    "We run the algorithm for 80000 iterations/until convergence."
   ]
  },
  {
   "cell_type": "code",
   "execution_count": 13,
   "metadata": {},
   "outputs": [],
   "source": [
    "# Running for an initial 30000 Steps\n",
    "options={'maxls': 10, 'maxiter': 30000, 'maxfun': 30000} "
   ]
  },
  {
   "cell_type": "code",
   "execution_count": 14,
   "metadata": {},
   "outputs": [
    {
     "name": "stdout",
     "output_type": "stream",
     "text": [
      "b'STOP: TOTAL NO. of f AND g EVALUATIONS EXCEEDS LIMIT'\n"
     ]
    }
   ],
   "source": [
    "result = ou_mam.run(options)"
   ]
  },
  {
   "cell_type": "code",
   "execution_count": 15,
   "metadata": {},
   "outputs": [
    {
     "name": "stdout",
     "output_type": "stream",
     "text": [
      "b'STOP: TOTAL NO. of f AND g EVALUATIONS EXCEEDS LIMIT'\n",
      "Algorithm has made 20100 function evaluations\n"
     ]
    }
   ],
   "source": [
    "# Running algorithm for a further 40000 steps\n",
    "options={'maxls': 10, 'maxiter': 40000, 'maxfun': 40000}\n",
    "result = ou_mam.run(options) \n",
    "print(f'Algorithm has made {ou_mam.nfev} function evaluations')"
   ]
  },
  {
   "cell_type": "markdown",
   "metadata": {},
   "source": [
    "## Comparison with \"Analytic Soltuion\""
   ]
  },
  {
   "cell_type": "code",
   "execution_count": 16,
   "metadata": {},
   "outputs": [
    {
     "data": {
      "text/plain": [
       "[<matplotlib.lines.Line2D at 0x2b3b5c36c050>,\n",
       " <matplotlib.lines.Line2D at 0x2b3b5c36c290>]"
      ]
     },
     "execution_count": 16,
     "metadata": {},
     "output_type": "execute_result"
    },
    {
     "data": {
      "image/png": "[encoded data removed]",
      "text/plain": [
       "<Figure size 432x288 with 1 Axes>"
      ]
     },
     "metadata": {
      "needs_background": "light"
     },
     "output_type": "display_data"
    }
   ],
   "source": [
    "plt.plot(ou_mam.instanton)"
   ]
  },
  {
   "cell_type": "code",
   "execution_count": 11,
   "metadata": {},
   "outputs": [],
   "source": [
    "### MAM CLASS DEFINITION\n",
    "\n",
    "\n",
    "\n",
    "# import numpy as np\n",
    "# from scipy.optimize import minimize\n",
    "# # from scipy.integrate import trapezoid\n",
    "\n",
    "# class Mam_alg:\n",
    "#     \"\"\"\n",
    "#     Class for an convient run of the MAM algorithm. Built on scipy.minimise method.\n",
    "    \n",
    "#     - Object creation requires drift and initial path (see __init__).\n",
    "#     - Once object is created, user should set bounds for optimisation problem via .bnds property.\n",
    "#     - Use of .run(options) method then evolves .instanton property under MAM algorithm.\n",
    "#     - .instanton property contains current state of minmisation.\n",
    "    \n",
    "#     Properties\n",
    "#     -----------\n",
    "#     instanton: np array\n",
    "#         Current path being evolved by MAM, should converge to instanton. \n",
    "#         User shape is (time, ndim).\n",
    "#         Class reshapes for scipy.minimise usage.\n",
    "        \n",
    "#     bnds: np array\n",
    "#         Constraints for the minimisation problem.\n",
    "#         Should be set before running. Object performs default initialisation.\n",
    "#         User must set all bnds at the same time.\n",
    "#         User provides shape of (T, ndim, 2).Indexed by: Time, ndim, lower/upper bound.\n",
    "#         Class reshapes for scipy.minimise usage.\n",
    "        \n",
    "#     Methods\n",
    "#     -----------\n",
    "#     run(options)\n",
    "#         Runs MAM algorithm until convergence or user specified limit.\n",
    "    \n",
    "#     Attributes\n",
    "#     -----------\n",
    "    \n",
    "#     b_args: list \n",
    "#         Arguments used for drift b.\n",
    "#         Note b is of form b(path, b_args)\n",
    "\n",
    "#     ic: np array\n",
    "#         Initial condition for minimisation problem. \n",
    "#         Shape is (time, ndim). \n",
    "#         Important that initial and final point specified.\n",
    "\n",
    "#     time: np array\n",
    "#         Time points that paths are parameterised along\n",
    "#         Shape (T)\n",
    "\n",
    "#     d: np array\n",
    "#         Inverse of diffusion matrix. \n",
    "        \n",
    "#     nfev: integer\n",
    "#         Number of function evaluations in MAM thus far.\n",
    "\n",
    "#     \"\"\"\n",
    "    \n",
    "#     def __init__(self, b, b_args, ic, time, d, bnds=None):\n",
    "#         \"\"\"\n",
    "\n",
    "\n",
    "#         Parameters\n",
    "#         ----------\n",
    "#         b: function \n",
    "#             Takes path and returns drift. \n",
    "#             Should be of form b(path, b_args).\n",
    "#             Path input and are drift output are shape (time, ndim).\n",
    "            \n",
    "#         b_args: list \n",
    "#             Further arguments for b.\n",
    "#             Note b is of form b(path, b_args)\n",
    "    \n",
    "#         ic: np array\n",
    "#             Initial instanton path. \n",
    "#             Shape is (time, ndim). \n",
    "#             Important that initial and final point specified.\n",
    "            \n",
    "#         time: np array\n",
    "#             Time points that paths are parameterised along\n",
    "#             Shape (T)\n",
    "            \n",
    "#         d: np array\n",
    "#             Inverse of diffusion matrix. \n",
    "#         \"\"\"\n",
    "        \n",
    "#         # User Accessed attrbutes\n",
    "#         self.time = time\n",
    "#         self.d = d\n",
    "#         self.b_args = b_args\n",
    "#         self.ic = ic\n",
    "#         self.nfev=0\n",
    "        \n",
    "#         # Internal attributes\n",
    "#         self._b = b\n",
    "#         self._user_shape = ic.shape\n",
    "#         self._ic = ic.flatten()\n",
    "#         self._instanton = ic.flatten() # Current state of minimisation\n",
    "\n",
    "#         # Create default bounds, really user should set\n",
    "#         if (bnds==None):\n",
    "#             self._initialise_bnds() \n",
    "#             print(\"I've created default bounds, but you should probably set some.\")\n",
    "        \n",
    "#     def _action(self, path):\n",
    "#         \"\"\" Takes a path and computes the FW action along the path.\n",
    "\n",
    "#         Path input is of form necesseary for scipy.minimise (see parameter explanation).\n",
    "#         Finite differences are used to approximate derivatives.\n",
    "#         Trapezoidal Rule used to compute integral\n",
    "\n",
    "#         Parameters\n",
    "#         ----------\n",
    "#         path: np array\n",
    "#             shape is flat (time * ndim) for use by scipy.minimise\n",
    "#             method reshapes into (time, ndim)\n",
    "#         \"\"\"\n",
    "#         h = path.reshape(self._user_shape)\n",
    "\n",
    "#         # d_phi_dt calculation. Second time arg in np.gradient should be irrelevant.\n",
    "#         v = self._b(0, h, self.b_args) - np.vstack(np.gradient(h, self.time.flatten(), 1)[0]) \n",
    "\n",
    "#         # Dot product calulcation\n",
    "#         v2 = [] \n",
    "#         for x in v:\n",
    "#             v2.append(x.dot(Dinv @ x.T))\n",
    "#         return 0.5 * np.trapz(v2, x=time)\n",
    "    \n",
    "#     @property\n",
    "#     def instanton(self):\n",
    "#         \"Current state of minimisation.\"\n",
    "#         return self._instanton.reshape(self._user_shape)\n",
    "    \n",
    "#     @property\n",
    "#     def bnds(self): # indexed by Time, ndim, lower/upper bound\n",
    "#         \"Bounds of optimisation problem\"\n",
    "#         return self._bnds.reshape((*self._user_shape, 2)) \n",
    "    \n",
    "#     @bnds.setter \n",
    "#     def bnds(self, b): \n",
    "#         # reshapes for scipy.minimise usage\n",
    "#         #b should be all of bounds when setting\n",
    "#         self._bnds = b.reshape(len(self.ic.flatten()), 2)\n",
    "    \n",
    "#     def _initialise_bnds(self):\n",
    "#         \"\"\" Initialises bounds for constraint, user is free to change.\n",
    "#         The user specified bnds shape is different to the one used by underlying code.\n",
    "#         \"\"\"\n",
    "        \n",
    "#         # We initialise by creating an np array indexed by Time, ndim, lower/upper bound\n",
    "#         # User specified bnds are of this form\n",
    "#         self._bnds = np.zeros((*self._user_shape, 2))\n",
    "#         initial_point = self.ic[0]\n",
    "#         final_point = self.ic[-1]\n",
    "\n",
    "#         # t = 0 Constraint\n",
    "#         self._bnds[0,:,0] = initial_point - 0.01 * np.ones(self._user_shape[1]) # Lower bound\n",
    "#         self._bnds[0,:,1] = initial_point + 0.01 * np.ones(self._user_shape[1]) # Upper bound\n",
    "\n",
    "#         # Bounds for t \\in (dt, T-dt)\n",
    "#         self._bnds[1:-1, :, 0] = - 10 # 10 chosen as arbitrary default\n",
    "#         self._bnds[1:-1, :, 1] = 10 # Important that this is changed for specific problem \n",
    "\n",
    "#         # t = T Constraint\n",
    "#         self._bnds[-1,:,0] = final_point - 0.01 * np.ones(self._user_shape[1])\n",
    "#         self._bnds[-1,:,1] = final_point + 0.01 * np.ones(self._user_shape[1])\n",
    "        \n",
    "#         # We then reshape to the form used by the object\n",
    "#         self._bnds = self._bnds.reshape(len(self.ic.flatten()), 2)\n",
    "        \n",
    "#     def run(self, opt):\n",
    "#         \"Runs the MAM algorithm. opt feds scipy.minimize via options argument.\"\n",
    "#         res = minimize(self._action, self._instanton, method='L-BFGS-B', bounds = self._bnds, \n",
    "#                options=opt)\n",
    "#         print(res.message)\n",
    "#         self._instanton = res.x\n",
    "#         self.nfev += res.nfev\n",
    "#         return \n",
    "        \n",
    "        "
   ]
  },
  {
   "cell_type": "code",
   "execution_count": null,
   "metadata": {},
   "outputs": [],
   "source": []
  }
 ],
 "metadata": {
  "kernelspec": {
   "display_name": "Python3 (personal)",
   "language": "python",
   "name": "python3_personal"
  },
  "language_info": {
   "codemirror_mode": {
    "name": "ipython",
    "version": 3
   },
   "file_extension": ".py",
   "mimetype": "text/x-python",
   "name": "python",
   "nbconvert_exporter": "python",
   "pygments_lexer": "ipython3",
   "version": "3.7.7"
  }
 },
 "nbformat": 4,
 "nbformat_minor": 2
}
