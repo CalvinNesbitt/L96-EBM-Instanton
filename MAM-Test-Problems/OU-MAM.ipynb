{
 "cells": [
  {
   "cell_type": "markdown",
   "metadata": {},
   "source": [
    "# Ornstein Uhlenbeck Instanton Calculation \n",
    "\n",
    "In this notebook we will use the MAM method outlined in [1] to calculate an instanton in the Ornstein Uhlenbeck SDE model. We will compare this to the analytic solution as well as the numerically integrated Euler-Lagrange Equations.\n",
    "\n",
    "- [1] Weinan, E., Ren, W. and Vanden-Eijnden, E., 2004. Minimum action method for the study of rare events. Communications on pure and applied mathematics, 57(5), pp.637-656."
   ]
  },
  {
   "cell_type": "code",
   "execution_count": 17,
   "metadata": {},
   "outputs": [],
   "source": [
    "# Standard Package imports\n",
    "\n",
    "import numpy as np\n",
    "import numpy.linalg as la\n",
    "import numpy.random as rm\n",
    "import matplotlib.pyplot as plt\n",
    "\n",
    "from mam import Mam_alg\n",
    "from instanton_utility import *\n",
    "from tqdm.notebook import tqdm"
   ]
  },
  {
   "cell_type": "markdown",
   "metadata": {},
   "source": [
    "# Problem Definition & Parameter Choices\n",
    "\n",
    "Here we define the drift function of the OU system and specify our parameter choices."
   ]
  },
  {
   "cell_type": "code",
   "execution_count": 18,
   "metadata": {},
   "outputs": [],
   "source": [
    "# F-W action Definition\n",
    "\n",
    "def a(t, x, s):\n",
    "    gamma, sigma = s\n",
    "    return - gamma * x"
   ]
  },
  {
   "cell_type": "code",
   "execution_count": 19,
   "metadata": {},
   "outputs": [],
   "source": [
    "# Parameter Specification\n",
    "\n",
    "# OU Parameters\n",
    "gamma = 0.5\n",
    "sigma = 0.25\n",
    "s = [gamma, sigma]\n",
    "D = sigma **2\n",
    "Dinv = 1/D\n",
    "\n",
    "# Time\n",
    "t0 = 0\n",
    "tF = 10\n",
    "dt = 0.1\n",
    "steps = int((tF-t0)/dt)\n",
    "time = np.arange(t0, tF, dt)"
   ]
  },
  {
   "cell_type": "markdown",
   "metadata": {},
   "source": [
    "## MAM Set up\n",
    "\n",
    "Here we define the initial instanton path for the minimisation problem, specify bounds and create a MAM algorithm object."
   ]
  },
  {
   "cell_type": "code",
   "execution_count": 20,
   "metadata": {},
   "outputs": [],
   "source": [
    "# Instanton Initialisation\n",
    "\n",
    "initial_point = 0.1\n",
    "final_point = 1.1\n",
    "\n",
    "inst_ic = np.linspace(initial_point, final_point, len(time))"
   ]
  },
  {
   "cell_type": "code",
   "execution_count": 21,
   "metadata": {},
   "outputs": [],
   "source": [
    "# --------------------------------------------------------------------------------\n",
    "# Example Bounds Grid - Useful should you want to specify your own bounds\n",
    "# --------------------------------------------------------------------------------\n",
    "\n",
    "bnds = np.zeros((*inst_ic.shape, 2)) # indexed by Time, ndim, lower/upper\n",
    "\n",
    "if (len(inst_ic.shape) == 1):\n",
    "    shape = 1\n",
    "else:\n",
    "    shape = np.ones(inst_ic.shape[1])\n",
    "\n",
    "# t = 0 Constraint\n",
    "bnds[0,...,0] = initial_point - 0.0001 * shape # Lower\n",
    "bnds[0,...,1] = initial_point + 0.0001 * shape # Upper\n",
    "\n",
    "# Bounds for t \\in (dt, T-dt)\n",
    "bnds[1:-1, ..., 0] = - 5\n",
    "bnds[1:-1, ..., 1] = 5\n",
    "\n",
    "# t = T Constraint\n",
    "bnds[-1,...,0] = final_point - 0.01 * shape\n",
    "bnds[-1,...,1] = final_point + 0.01 * shape"
   ]
  },
  {
   "cell_type": "code",
   "execution_count": 22,
   "metadata": {},
   "outputs": [],
   "source": [
    "# Object creation\n",
    "\n",
    "# ou_mam = Mam_alg(a, s, inst_ic, time, Dinv) # default bounds\n",
    "ou_mam = Mam_alg(a, s, inst_ic, time, Dinv, bnds=bnds) # specify bounds "
   ]
  },
  {
   "cell_type": "markdown",
   "metadata": {},
   "source": [
    "## Running MAM Algorithm\n",
    "\n",
    "We run the algorithm for up to 10000 iterations/until convergence."
   ]
  },
  {
   "cell_type": "code",
   "execution_count": 23,
   "metadata": {},
   "outputs": [],
   "source": [
    "# Running for an initial 30000 Steps\n",
    "options={'maxls': 10, 'maxiter': 10000, 'maxfun': 10000} "
   ]
  },
  {
   "cell_type": "code",
   "execution_count": 24,
   "metadata": {},
   "outputs": [
    {
     "name": "stdout",
     "output_type": "stream",
     "text": [
      "b'CONVERGENCE: REL_REDUCTION_OF_F_<=_FACTR*EPSMCH'\n"
     ]
    }
   ],
   "source": [
    "result = ou_mam.run(options)"
   ]
  },
  {
   "cell_type": "markdown",
   "metadata": {},
   "source": [
    "## Comparison With Analytic Solution\n",
    "\n",
    "We plot the MAM output alongside the known analytic solution."
   ]
  },
  {
   "cell_type": "code",
   "execution_count": 25,
   "metadata": {},
   "outputs": [],
   "source": [
    "def analytic_solution(time, x0, xf, s):\n",
    "    gamma, sigma = s\n",
    "    t0 = time[0]\n",
    "    tf = time[-1]\n",
    "    c1 = (xf - x0 * np.exp(- gamma * tf))/(2 * np.sinh(gamma * tf))\n",
    "    c2 = x0 - c1\n",
    "    return c1 * np.exp(gamma * time) + c2 * np.exp(-gamma * time)"
   ]
  },
  {
   "cell_type": "code",
   "execution_count": 26,
   "metadata": {},
   "outputs": [
    {
     "data": {
      "image/png": "[encoded data removed]",
      "text/plain": [
       "<Figure size 1080x576 with 1 Axes>"
      ]
     },
     "metadata": {
      "needs_background": "light"
     },
     "output_type": "display_data"
    }
   ],
   "source": [
    "# Comparison Plot\n",
    "\n",
    "fig, ax = plt.subplots(figsize=(15, 8))\n",
    "\n",
    "ax.grid()\n",
    "ax.set_title('$\\\\phi$ Comparison')\n",
    "ax.plot(time,  analytic_solution(time, initial_point, final_point, s),'b', linewidth=2, label = 'Analytic')\n",
    "ax.plot(time, ou_mam.instanton, 'r.', label = 'MAM')\n",
    "ax.set_xlabel('Time')\n",
    "ax.set_ylabel('$\\\\phi(t)$')\n",
    "ax.legend()\n",
    "fig.show()"
   ]
  },
  {
   "cell_type": "markdown",
   "metadata": {},
   "source": [
    "## Calculating action For Nearby Paths\n",
    "\n",
    "We compare the action for slightly perturb paths, create a histogram and check if our found path does indeed minimise."
   ]
  },
  {
   "cell_type": "code",
   "execution_count": 27,
   "metadata": {},
   "outputs": [],
   "source": [
    "# # Defining utilitties for checking action being tracked.\n",
    "\n",
    "# class action_minimisation_checker: #NEEEDS DOCUMENTING PROPERLY AND CLEANING UP\n",
    "#     \"\"\"Class for keeping track of instanton action comparisons.\"\"\"\n",
    "    \n",
    "#     def __init__(self, a, instanton, args):\n",
    "#         \"\"\" \n",
    "#         param, a: Deterministic part of SDE, feeds in to action integral.\n",
    "#         param, instanton: the path we're comparing against\n",
    "#         param, args: arguments for a.\n",
    "#         \"\"\"\n",
    "#         self._b = a\n",
    "#         self.b_args, self.time = args\n",
    "        \n",
    "#         # Instanton we will we check against\n",
    "#         self.instanton = instanton \n",
    "        \n",
    "#         if (len(self.instanton.shape) == 1): #ndim=1 case\n",
    "#             self.action_value = self._1d_action(instanton)\n",
    "#         else:\n",
    "#             self.action_value = self._action(instanton)\n",
    "\n",
    "        \n",
    "#         self._compare_list = [(self.instanton, self.action_value)]\n",
    "#         self._smaller_list = []\n",
    "        \n",
    "#     def _action(self, path):\n",
    "#         \"\"\" Takes a path and computes the FW action along the path when ndim >1. If ndim=1,\n",
    "#         object will use _1d_action.\n",
    "\n",
    "#         Path input is of form necesseary for scipy.minimise (see parameter explanation).\n",
    "#         Finite differences are used to approximate derivatives.\n",
    "#         Trapezoidal Rule used to compute integral\n",
    "\n",
    "#         Parameters\n",
    "#         ----------\n",
    "#         path: np array\n",
    "#             shape is flat (time * ndim) for use by scipy.minimise\n",
    "#             method reshapes into (time, ndim)\n",
    "#         \"\"\"\n",
    "#         v = np.vstack(np.gradient(path, self.time.flatten(), 1)[0]) - self._b(0, path, self.b_args)\n",
    "\n",
    "#         # Dot product calulcation\n",
    "#         v2 = [] \n",
    "#         for x in v:\n",
    "#             v2.append(x.dot(self.d @ x.T))\n",
    "#         return 0.5 * np.trapz(v2, x=self.time)\n",
    "    \n",
    "#     def _1d_action(self, path):\n",
    "#         \"\"\"\n",
    "#         Same as _action method for 1d case.\n",
    "#         \"\"\"\n",
    "#         v = np.gradient(path, self.time) -  self._b(0, path, self.b_args)\n",
    "#         integrand =  v**2\n",
    "#         return 0.5 * np.trapz(integrand, x=self.time)\n",
    "    \n",
    "#     def compare(self, path):\n",
    "#         \"\"\" Compare a provided path vs. the instanton.\n",
    "#         \"\"\"\n",
    "#         if (len(self.instanton.shape) == 1): #ndim=1 case\n",
    "#             x = self._1d_action(path)\n",
    "#         else:\n",
    "#             x = self._action(path)\n",
    "#         self._add_comparison((path, x))\n",
    "    \n",
    "#     @property\n",
    "#     def compared_paths(self):\n",
    "#         \"Returns a list of tuples of compared paths and their action value\"\n",
    "#         return self._compare_list\n",
    "    \n",
    "#     @property\n",
    "#     def path_list(self):\n",
    "#         \"List of action values from pared paths\"\n",
    "#         return [x[1] for x in self.compared_paths]\n",
    "    \n",
    "#     @property\n",
    "#     def av_list(self):\n",
    "#         \"List of action values from pared paths\"\n",
    "#         return [x[1] for x in self.compared_paths]\n",
    "    \n",
    "#     def _add_comparison(self, path_tuple):\n",
    "#         self._compare_list.append(path_tuple)\n",
    "        \n",
    "#     def any_smaller(self):\n",
    "#         \"Checks if any compared path has a smaller action.\"\n",
    "#         for path_tuple in self.compared_paths:\n",
    "#             if (path_tuple[1] < self.action_value):\n",
    "#                 print(\"Looks like a nearby path has a smaller action\")\n",
    "#                 self.add_smaller_path(path_tuple)\n",
    "#                 print(\"I've made a note of this\")\n",
    "#                 return \n",
    "#         print(\"Looks like it minimises\")\n",
    "#         return\n",
    "    \n",
    "#     @property\n",
    "#     def smaller_list(self):\n",
    "#         return self._smaller_list\n",
    "    \n",
    "#     @property\n",
    "#     def av_list(self):\n",
    "#         \"List of action values from pared paths\"\n",
    "#         return [x[1] for x in self.compared_paths]\n",
    "    \n",
    "#     def add_smaller_path(self, x):\n",
    "#         self._smaller_list.append(x)\n",
    "    \n",
    "#     def differences(self):\n",
    "#         \"Prints differences in action for compared paths\"\n",
    "#         for path_tuple in self.compared_paths:\n",
    "#             print(path_tuple[1] - self.action_value)\n",
    "\n",
    "# def eps_path(path, x):\n",
    "#     \"Function that perturbs all non boundary points by x.\"\n",
    "#     ep = np.copy(path)\n",
    "#     ep[1:-1] += x\n",
    "#     return ep"
   ]
  },
  {
   "cell_type": "code",
   "execution_count": 28,
   "metadata": {},
   "outputs": [],
   "source": [
    "# Creating A Load Of Random Paths to compare against\n",
    "\n",
    "# def random_path(path, b):\n",
    "#     \"\"\"Takes path and adds a random number to each point.\\\n",
    "#     For each point on the path an number is sampled from uniform(-b, b)\n",
    "#     and added to that point.\n",
    "#     \"\"\"\n",
    "#     return path + rm.uniform(-b, b, path.shape)\n",
    "\n",
    "near_paths = [random_path(ou_mam.instanton, 0.01) for i in range(10000)] # Conclusion Different depending on paths\n",
    "# near_paths = [random_path(ou_mam.instanton, 0.001) for i in range(10000)]"
   ]
  },
  {
   "cell_type": "code",
   "execution_count": 29,
   "metadata": {},
   "outputs": [],
   "source": [
    "# Creating Object to Track Action Check\n",
    "\n",
    "action_track = action_minimisation_checker(a, ou_mam.instanton, [s, time])"
   ]
  },
  {
   "cell_type": "code",
   "execution_count": 30,
   "metadata": {},
   "outputs": [],
   "source": [
    "# Doing the Comparison\n",
    "\n",
    "for path in near_paths:\n",
    "    action_track.compare(path)"
   ]
  },
  {
   "cell_type": "code",
   "execution_count": 31,
   "metadata": {},
   "outputs": [
    {
     "data": {
      "image/png": "[encoded data removed]",
      "text/plain": [
       "<Figure size 1080x576 with 1 Axes>"
      ]
     },
     "metadata": {
      "needs_background": "light"
     },
     "output_type": "display_data"
    }
   ],
   "source": [
    "# Histogram \n",
    "\n",
    "fig, ax = plt.subplots(figsize=(15, 8))\n",
    "\n",
    "ax.grid()\n",
    "ax.hist(action_track.av_list, bins=100, density=True)\n",
    "ax.plot(np.full_like(np.linspace(0, 1000), action_track.action_value), np.linspace(0, 1000), '--o', label='MAM Instanton')\n",
    "ax.set_xlabel('Action Value')\n",
    "ax.set_ylabel('$\\\\rho$')\n",
    "ax.set_title('Action Density For Nearby Paths')\n",
    "ax.legend()\n",
    "fig.show()"
   ]
  },
  {
   "cell_type": "code",
   "execution_count": null,
   "metadata": {},
   "outputs": [],
   "source": []
  }
 ],
 "metadata": {
  "kernelspec": {
   "display_name": "Python3 (personal)",
   "language": "python",
   "name": "python3_personal"
  },
  "language_info": {
   "codemirror_mode": {
    "name": "ipython",
    "version": 3
   },
   "file_extension": ".py",
   "mimetype": "text/x-python",
   "name": "python",
   "nbconvert_exporter": "python",
   "pygments_lexer": "ipython3",
   "version": "3.7.7"
  }
 },
 "nbformat": 4,
 "nbformat_minor": 2
}
