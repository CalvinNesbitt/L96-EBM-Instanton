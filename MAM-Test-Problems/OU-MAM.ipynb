{
 "cells": [
  {
   "cell_type": "markdown",
   "metadata": {},
   "source": [
    "# Ornstein Uhlenbeck Instanton Calculation \n",
    "\n",
    "In this notebook we will use the MAM method outlined in [1] to calculate an instanton in the Ornstein Uhlenbeck SDE model. We will compare this to the analytic solution as well as the numerically integrated Euler-Lagrange Equations.\n",
    "\n",
    "- [1] Weinan, E., Ren, W. and Vanden-Eijnden, E., 2004. Minimum action method for the study of rare events. Communications on pure and applied mathematics, 57(5), pp.637-656."
   ]
  },
  {
   "cell_type": "code",
   "execution_count": 1,
   "metadata": {},
   "outputs": [],
   "source": [
    "# Standard Package imports\n",
    "\n",
    "import numpy as np\n",
    "import numpy.linalg as la\n",
    "import numpy.random as rm\n",
    "import matplotlib.pyplot as plt\n",
    "\n",
    "from mam import Mam_alg\n",
    "from tqdm.notebook import tqdm"
   ]
  },
  {
   "cell_type": "markdown",
   "metadata": {},
   "source": [
    "# Problem Definition & Parameter Choices\n",
    "\n",
    "Here we define the drift function of the OU system and specify our parameter choices."
   ]
  },
  {
   "cell_type": "code",
   "execution_count": 2,
   "metadata": {},
   "outputs": [],
   "source": [
    "# F-W action Definition\n",
    "\n",
    "def a(t, x, s):\n",
    "    gamma, sigma = s\n",
    "    return - gamma * x"
   ]
  },
  {
   "cell_type": "code",
   "execution_count": 3,
   "metadata": {},
   "outputs": [],
   "source": [
    "# Parameter Specification\n",
    "\n",
    "# OU Parameters\n",
    "gamma = 0.5\n",
    "sigma = 0.25\n",
    "s = [gamma, sigma]\n",
    "D = sigma **2\n",
    "Dinv = 1/D\n",
    "\n",
    "# Time\n",
    "t0 = 0\n",
    "tF = 10\n",
    "dt = 0.1\n",
    "steps = int((tF-t0)/dt)\n",
    "time = np.arange(t0, tF, dt)"
   ]
  },
  {
   "cell_type": "markdown",
   "metadata": {},
   "source": [
    "## MAM Set up\n",
    "\n",
    "Here we define the initial instanton path for the minimisation problem, specify bounds and create a MAM algorithm object."
   ]
  },
  {
   "cell_type": "code",
   "execution_count": 4,
   "metadata": {},
   "outputs": [],
   "source": [
    "# Instanton Initialisation\n",
    "\n",
    "initial_point = 0.1\n",
    "final_point = 1.1\n",
    "\n",
    "inst_ic = np.linspace(initial_point, final_point, len(time))"
   ]
  },
  {
   "cell_type": "code",
   "execution_count": 5,
   "metadata": {},
   "outputs": [],
   "source": [
    "# --------------------------------------------------------------------------------\n",
    "# Example Bounds Grid - Useful should you want to specify your own bounds\n",
    "# --------------------------------------------------------------------------------\n",
    "\n",
    "bnds = np.zeros((*inst_ic.shape, 2)) # indexed by Time, ndim, lower/upper\n",
    "\n",
    "if (len(inst_ic.shape) == 1):\n",
    "    shape = 1\n",
    "else:\n",
    "    shape = np.ones(inst_ic.shape[1])\n",
    "\n",
    "# t = 0 Constraint\n",
    "bnds[0,...,0] = initial_point - 0.0001 * shape # Lower\n",
    "bnds[0,...,1] = initial_point + 0.0001 * shape # Upper\n",
    "\n",
    "# Bounds for t \\in (dt, T-dt)\n",
    "bnds[1:-1, ..., 0] = - 5\n",
    "bnds[1:-1, ..., 1] = 5\n",
    "\n",
    "# t = T Constraint\n",
    "bnds[-1,...,0] = final_point - 0.01 * shape\n",
    "bnds[-1,...,1] = final_point + 0.01 * shape"
   ]
  },
  {
   "cell_type": "code",
   "execution_count": 6,
   "metadata": {},
   "outputs": [],
   "source": [
    "# Object creation\n",
    "\n",
    "# ou_mam = Mam_alg(a, s, inst_ic, time, Dinv) # default bounds\n",
    "ou_mam = Mam_alg(a, s, inst_ic, time, Dinv, bnds=bnds) # specify bounds "
   ]
  },
  {
   "cell_type": "markdown",
   "metadata": {},
   "source": [
    "## Running MAM Algorithm\n",
    "\n",
    "We run the algorithm for up to 10000 iterations/until convergence."
   ]
  },
  {
   "cell_type": "code",
   "execution_count": 7,
   "metadata": {},
   "outputs": [],
   "source": [
    "# Running for an initial 30000 Steps\n",
    "options={'maxls': 10, 'maxiter': 10000, 'maxfun': 10000} "
   ]
  },
  {
   "cell_type": "code",
   "execution_count": 8,
   "metadata": {},
   "outputs": [
    {
     "name": "stdout",
     "output_type": "stream",
     "text": [
      "b'CONVERGENCE: REL_REDUCTION_OF_F_<=_FACTR*EPSMCH'\n"
     ]
    }
   ],
   "source": [
    "result = ou_mam.run(options)"
   ]
  },
  {
   "cell_type": "markdown",
   "metadata": {},
   "source": [
    "## Comparison With Analytic Solution\n",
    "\n",
    "We plot the MAM output alongside the known analytic solution."
   ]
  },
  {
   "cell_type": "code",
   "execution_count": 9,
   "metadata": {},
   "outputs": [],
   "source": [
    "def analytic_solution(time, x0, xf, s):\n",
    "    gamma, sigma = s\n",
    "    t0 = time[0]\n",
    "    tf = time[-1]\n",
    "    c1 = (xf - x0 * np.exp(- gamma * tf))/(2 * np.sinh(gamma * tf))\n",
    "    c2 = x0 - c1\n",
    "    return c1 * np.exp(gamma * time) + c2 * np.exp(-gamma * time)"
   ]
  },
  {
   "cell_type": "code",
   "execution_count": 10,
   "metadata": {},
   "outputs": [
    {
     "data": {
      "image/png": "[encoded data removed]",
      "text/plain": [
       "<Figure size 1080x576 with 1 Axes>"
      ]
     },
     "metadata": {
      "needs_background": "light"
     },
     "output_type": "display_data"
    }
   ],
   "source": [
    "# Comparison Plot\n",
    "\n",
    "fig, ax = plt.subplots(figsize=(15, 8))\n",
    "\n",
    "ax.grid()\n",
    "ax.set_title('$\\\\phi$ Comparison')\n",
    "ax.plot(time,  analytic_solution(time, initial_point, final_point, s),'b', linewidth=2, label = 'Analytic')\n",
    "ax.plot(time, ou_mam.instanton, 'r.', label = 'MAM')\n",
    "ax.set_xlabel('Time')\n",
    "ax.set_ylabel('$\\\\phi(t)$')\n",
    "ax.legend()\n",
    "fig.show()"
   ]
  },
  {
   "cell_type": "markdown",
   "metadata": {},
   "source": [
    "## Calculating action For Nearby Paths\n",
    "\n",
    "We compare the action for slightly perturb paths, create a histogram and check if our found path does indeed minimise."
   ]
  },
  {
   "cell_type": "code",
   "execution_count": 11,
   "metadata": {},
   "outputs": [],
   "source": [
    "from instanton_utility import *"
   ]
  },
  {
   "cell_type": "code",
   "execution_count": 12,
   "metadata": {},
   "outputs": [],
   "source": [
    "# Creating A Load Of Random Paths to compare against\n",
    "\n",
    "near_paths = [random_path(ou_mam.instanton, 0.01) for i in range(10000)] # Conclusion Different depending on paths\n",
    "# near_paths = [random_path(ou_mam.instanton, 0.001) for i in range(10000)]"
   ]
  },
  {
   "cell_type": "code",
   "execution_count": 13,
   "metadata": {},
   "outputs": [],
   "source": [
    "# Creating Object to Track Action Check\n",
    "\n",
    "action_track = action_minimisation_checker(a, ou_mam.instanton, [s, time, Dinv])"
   ]
  },
  {
   "cell_type": "code",
   "execution_count": 14,
   "metadata": {},
   "outputs": [],
   "source": [
    "# Doing the Comparison\n",
    "\n",
    "for path in near_paths:\n",
    "    action_track.compare(path)"
   ]
  },
  {
   "cell_type": "code",
   "execution_count": 15,
   "metadata": {},
   "outputs": [
    {
     "data": {
      "image/png": "[encoded data removed]",
      "text/plain": [
       "<Figure size 1080x576 with 1 Axes>"
      ]
     },
     "metadata": {
      "needs_background": "light"
     },
     "output_type": "display_data"
    }
   ],
   "source": [
    "# Histogram \n",
    "\n",
    "fig, ax = plt.subplots(figsize=(15, 8))\n",
    "\n",
    "ax.grid()\n",
    "bins, edges, patches = ax.hist(action_track.av_list, bins=100, density=True)\n",
    "ax.plot(np.full_like(np.linspace(0, max(bins)), action_track.action_value), \n",
    "        np.linspace(0, max(bins)), '--o', label='MAM Instanton')\n",
    "ax.set_xlabel('Action Value')\n",
    "ax.set_ylabel('$\\\\rho$')\n",
    "ax.set_title('Action Density For Nearby Paths')\n",
    "ax.legend()\n",
    "fig.show()"
   ]
  },
  {
   "cell_type": "code",
   "execution_count": null,
   "metadata": {},
   "outputs": [],
   "source": []
  }
 ],
 "metadata": {
  "kernelspec": {
   "display_name": "Python3 (personal)",
   "language": "python",
   "name": "python3_personal"
  },
  "language_info": {
   "codemirror_mode": {
    "name": "ipython",
    "version": 3
   },
   "file_extension": ".py",
   "mimetype": "text/x-python",
   "name": "python",
   "nbconvert_exporter": "python",
   "pygments_lexer": "ipython3",
   "version": "3.7.7"
  }
 },
 "nbformat": 4,
 "nbformat_minor": 2
}
