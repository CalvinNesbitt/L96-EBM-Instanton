{
 "cells": [
  {
   "cell_type": "markdown",
   "metadata": {},
   "source": [
    "# Ornstein Uhlenbeck Instanton Calculation \n",
    "\n",
    "In this notebook we will use the MAM method outlined in [1] to calculate an instanton in the Ornstein Uhlenbeck SDE model. We will compare this to the analytic solution as well as the numerically integrated Euler-Lagrange Equations.\n",
    "\n",
    "- [1] Weinan, E., Ren, W. and Vanden-Eijnden, E., 2004. Minimum action method for the study of rare events. Communications on pure and applied mathematics, 57(5), pp.637-656."
   ]
  },
  {
   "cell_type": "code",
   "execution_count": 1,
   "metadata": {},
   "outputs": [],
   "source": [
    "# Standard Package imports\n",
    "\n",
    "import numpy as np\n",
    "import numpy.linalg as la\n",
    "import numpy.random as rm\n",
    "import matplotlib.pyplot as plt\n",
    "\n",
    "from mam import Mam_alg\n",
    "\n",
    "from tqdm.notebook import tqdm"
   ]
  },
  {
   "cell_type": "code",
   "execution_count": null,
   "metadata": {},
   "outputs": [],
   "source": [
    "def _action(self, path):\n",
    "    \"\"\" Takes a path and computes the FW action along the path when ndim >1. If ndim=1,\n",
    "    object will use _1d_action.\n",
    "\n",
    "    Path input is of form necesseary for scipy.minimise (see parameter explanation).\n",
    "    Finite differences are used to approximate derivatives.\n",
    "    Trapezoidal Rule used to compute integral\n",
    "\n",
    "    Parameters\n",
    "    ----------\n",
    "    path: np array\n",
    "        shape is flat (time * ndim) for use by scipy.minimise\n",
    "        method reshapes into (time, ndim)\n",
    "    \"\"\"\n",
    "    h = path.reshape(self._user_shape)                     \n",
    "    v = self._b(0, h, self.b_args) - np.vstack(np.gradient(h, self.time.flatten(), 1)[0]) \n",
    "\n",
    "    # Dot product calulcation\n",
    "    v2 = [] \n",
    "    for x in v:\n",
    "        v2.append(x.dot(self.d @ x.T))\n",
    "    return 0.5 * np.trapz(v2, x=self.time)"
   ]
  },
  {
   "cell_type": "code",
   "execution_count": null,
   "metadata": {},
   "outputs": [],
   "source": [
    "def _1d_action(self, path):\n",
    "    \"\"\"\n",
    "    Same as _action method for 1d case.\n",
    "    \"\"\"\n",
    "    h = path.reshape(self._user_shape)                     \n",
    "    v = self._b(0, h, self.b_args) - np.vstack(np.gradient(h, self.time.flatten()))\n",
    "    integrand =  v**2\n",
    "    return 0.5 * np.trapz(integrand, x=self.time)"
   ]
  },
  {
   "cell_type": "markdown",
   "metadata": {},
   "source": [
    "## Model Definition\n",
    "\n",
    "The SDE is defined via \n",
    "\n",
    "$dx = -\\gamma x dt  + \\sigma dWt$"
   ]
  },
  {
   "cell_type": "markdown",
   "metadata": {},
   "source": [
    "# F-W Action Minimisation"
   ]
  },
  {
   "cell_type": "code",
   "execution_count": 2,
   "metadata": {},
   "outputs": [],
   "source": [
    "# F-W action Definition\n",
    "\n",
    "def a(t, x, s):\n",
    "    gamma, sigma = s\n",
    "    return - gamma * x"
   ]
  },
  {
   "cell_type": "code",
   "execution_count": 3,
   "metadata": {},
   "outputs": [],
   "source": [
    "def analytic_solution(time, x0, xf, s):\n",
    "    gamma, sigma = s\n",
    "    t0 = time[0]\n",
    "    tf = time[-1]\n",
    "    c1 = (xf - x0 * np.exp(- gamma * tf))/(2 * np.sinh(gamma * tf))\n",
    "    c2 = x0 - c1\n",
    "    return c1 * np.exp(gamma * time) + c2 * np.exp(-gamma * time)"
   ]
  },
  {
   "cell_type": "code",
   "execution_count": 4,
   "metadata": {},
   "outputs": [],
   "source": [
    "# Parameter Specification\n",
    "\n",
    "# OU Parameters\n",
    "gamma = 0.5\n",
    "sigma = 0.25\n",
    "s = [gamma, sigma]\n",
    "D = sigma **2\n",
    "Dinv = 1/D\n",
    "\n",
    "# Time\n",
    "t0 = 0\n",
    "tF = 10\n",
    "dt = 0.1\n",
    "steps = int((tF-t0)/dt)\n",
    "time = np.arange(t0, tF, dt)"
   ]
  },
  {
   "cell_type": "code",
   "execution_count": 5,
   "metadata": {},
   "outputs": [],
   "source": [
    "# Instanton Initialisation\n",
    "\n",
    "initial_point = 0.1\n",
    "final_point = 1.1\n",
    "\n",
    "inst_ic = np.linspace(initial_point, final_point, len(time))"
   ]
  },
  {
   "cell_type": "code",
   "execution_count": null,
   "metadata": {},
   "outputs": [],
   "source": [
    "\n",
    "\n",
    "# bnds = np.zeros((*inst_ic.shape, 2)) # indexed by Time, ndim, lower/upper\n",
    "\n",
    "# if (len(inst_ic.shape) == 1):\n",
    "#     shape = 1\n",
    "# else:\n",
    "#     shape = np.ones(inst_ic.shape[1])\n",
    "\n",
    "# # t = 0 Constraint\n",
    "# bnds[0,...,0] = initial_point - 0.01 * shape # Lower\n",
    "# bnds[0,...,1] = initial_point + 0.01 * shape # Upper\n",
    "\n",
    "# # Bounds for t \\in (dt, T-dt)\n",
    "# bnds[1:-1, ..., 0] = - 10\n",
    "# bnds[1:-1, ..., 1] = 10\n",
    "\n",
    "# # t = T Constraint\n",
    "# bnds[-1,...,0] = final_point - 0.01 * shape\n",
    "# bnds[-1,...,1] = final_point + 0.01 * shape"
   ]
  },
  {
   "cell_type": "code",
   "execution_count": null,
   "metadata": {},
   "outputs": [],
   "source": [
    "# # We initialise by creating an np array indexed by Time, ndim, lower/upper bound\n",
    "# # User specified bnds are of this form\n",
    "# self._bnds = np.zeros((*self._user_shape, 2))\n",
    "# initial_point = self.ic[0]\n",
    "# final_point = self.ic[-1]\n",
    "\n",
    "# # Check if we have 1d case\n",
    "# if (len(self._user_shape) == 1):\n",
    "#     shape = 1\n",
    "# else:\n",
    "#     shape = np.ones(self._user_shape[1])\n",
    "\n",
    "\n",
    "# # t = 0 Constraint\n",
    "# self._bnds[0,:,0] = initial_point - 0.01 * shape # Lower bound\n",
    "# self._bnds[0,:,1] = initial_point + 0.01 * shape # Upper bound\n",
    "\n",
    "# # Bounds for t \\in (dt, T-dt)\n",
    "# self._bnds[1:-1, :, 0] = - 10 # 10 chosen as arbitrary default\n",
    "# self._bnds[1:-1, :, 1] = 10 # Important that this is changed for specific problem \n",
    "\n",
    "# # t = T Constraint\n",
    "# self._bnds[-1,:,0] = final_point - 0.01 * shape\n",
    "# self._bnds[-1,:,1] = final_point + 0.01 * shape\n",
    "\n",
    "# # We then reshape to the form used by the object\n",
    "# self._bnds = self._bnds.reshape(len(self.ic.flatten()), 2)"
   ]
  },
  {
   "cell_type": "code",
   "execution_count": null,
   "metadata": {},
   "outputs": [],
   "source": [
    "# d_phi_dt calculation. Second time arg in np.gradient should be irrelevant.\n",
    "if (len(self._user_shape) == 1):\n",
    "    grad = np.vstack(np.gradient(h, self.time.flatten()))\n",
    "else:\n",
    "    grad = np.vstack(np.gradient(h, self.time.flatten(), 1)[0])\n",
    "\n",
    "v = self._b(0, h, self.b_args) - grad  "
   ]
  },
  {
   "cell_type": "code",
   "execution_count": null,
   "metadata": {},
   "outputs": [],
   "source": [
    "#   # We initialise by creating an np array indexed by Time, ndim, lower/upper bound\n",
    "#     # User specified bnds are of this form\n",
    "#     self._bnds = np.zeros((*self._user_shape, 2))\n",
    "#     initial_point = self.ic[0]\n",
    "#     final_point = self.ic[-1]\n",
    "\n",
    "#     # t = 0 Constraint\n",
    "#     self._bnds[0,:,0] = initial_point - 0.01 * np.ones(self._user_shape[1]) # Lower bound\n",
    "#     self._bnds[0,:,1] = initial_point + 0.01 * np.ones(self._user_shape[1]) # Upper bound\n",
    "\n",
    "#     # Bounds for t \\in (dt, T-dt)\n",
    "#     self._bnds[1:-1, :, 0] = - 10 # 10 chosen as arbitrary default\n",
    "#     self._bnds[1:-1, :, 1] = 10 # Important that this is changed for specific problem \n",
    "\n",
    "#     # t = T Constraint\n",
    "#     self._bnds[-1,:,0] = final_point - 0.01 * np.ones(self._user_shape[1])\n",
    "#     self._bnds[-1,:,1] = final_point + 0.01 * np.ones(self._user_shape[1])\n",
    "\n",
    "#     # We then reshape to the form used by the object\n",
    "#     self._bnds = self._bnds.reshape(len(self.ic.flatten()), 2)"
   ]
  },
  {
   "cell_type": "code",
   "execution_count": null,
   "metadata": {},
   "outputs": [],
   "source": []
  },
  {
   "cell_type": "code",
   "execution_count": 6,
   "metadata": {},
   "outputs": [],
   "source": [
    "options={'maxls': 10, 'maxiter': 10000, 'maxfun': 10000}"
   ]
  },
  {
   "cell_type": "code",
   "execution_count": null,
   "metadata": {},
   "outputs": [],
   "source": [
    "test._1d_action(test.ic).shape"
   ]
  },
  {
   "cell_type": "code",
   "execution_count": null,
   "metadata": {},
   "outputs": [],
   "source": [
    "v"
   ]
  },
  {
   "cell_type": "code",
   "execution_count": null,
   "metadata": {},
   "outputs": [],
   "source": [
    "np.gradient(test.ic, test.time)"
   ]
  },
  {
   "cell_type": "code",
   "execution_count": null,
   "metadata": {},
   "outputs": [],
   "source": [
    "path = test.ic\n",
    "h = path.reshape(self._user_shape)    \n",
    "v=np.gradient(h, self.time) -  self._b(0, h, self.b_args)\n",
    "integrand =  v**2\n",
    "0.5 * np.trapz(integrand, x=self.time)"
   ]
  },
  {
   "cell_type": "code",
   "execution_count": null,
   "metadata": {},
   "outputs": [],
   "source": [
    "np.gradient(h, test.time)"
   ]
  },
  {
   "cell_type": "code",
   "execution_count": null,
   "metadata": {},
   "outputs": [],
   "source": [
    "h = path.reshape(test._user_shape)    \n",
    "v = np.gradient(h, test.time) -  test._b(0, h, test.b_args)\n",
    "integrand =  v**2\n",
    "0.5 * np.trapz(integrand, x=test.time)"
   ]
  },
  {
   "cell_type": "code",
   "execution_count": 7,
   "metadata": {},
   "outputs": [
    {
     "name": "stdout",
     "output_type": "stream",
     "text": [
      "I've created default bounds, but you should probably set some.\n",
      "b'CONVERGENCE: REL_REDUCTION_OF_F_<=_FACTR*EPSMCH'\n"
     ]
    }
   ],
   "source": [
    "test = Mam_alg(a, s, inst_ic, time, Dinv)\n",
    "result = test.run(options)"
   ]
  },
  {
   "cell_type": "code",
   "execution_count": null,
   "metadata": {},
   "outputs": [],
   "source": [
    "np.gradient(test.ic, test.time.flatten())"
   ]
  },
  {
   "cell_type": "code",
   "execution_count": null,
   "metadata": {},
   "outputs": [],
   "source": [
    "np.gradient(test.ic, test.time.flatten(), 1)"
   ]
  },
  {
   "cell_type": "code",
   "execution_count": null,
   "metadata": {},
   "outputs": [],
   "source": [
    "test.b_args"
   ]
  },
  {
   "cell_type": "code",
   "execution_count": null,
   "metadata": {},
   "outputs": [],
   "source": [
    "result = test.run(options)"
   ]
  },
  {
   "cell_type": "code",
   "execution_count": 8,
   "metadata": {},
   "outputs": [
    {
     "data": {
      "text/plain": [
       "[<matplotlib.lines.Line2D at 0x2b71ce871c90>]"
      ]
     },
     "execution_count": 8,
     "metadata": {},
     "output_type": "execute_result"
    },
    {
     "data": {
      "image/png": "[encoded data removed]",
      "text/plain": [
       "<Figure size 432x288 with 1 Axes>"
      ]
     },
     "metadata": {
      "needs_background": "light"
     },
     "output_type": "display_data"
    }
   ],
   "source": [
    "plt.plot(time, test.instanton)"
   ]
  },
  {
   "cell_type": "markdown",
   "metadata": {},
   "source": [
    "## Minimisation"
   ]
  },
  {
   "cell_type": "code",
   "execution_count": null,
   "metadata": {},
   "outputs": [],
   "source": [
    "# Bounds on action arguments\n",
    "\n",
    "def bounds(steps, initial_point, final_point):\n",
    "    bnds = np.zeros((steps, 2))\n",
    "    bnds[0]= [initial_point-0.1, initial_point]\n",
    "    bnds[1:-1, 0] = initial_point-0.1 # when this is 0, something funny in the solution\n",
    "    bnds[1:-1, 1] = final_point+0.1\n",
    "    bnds[-1]= [final_point, final_point+0.1]\n",
    "    return bnds\n",
    "\n",
    "bnds = bounds(steps, initial_point, final_point)"
   ]
  },
  {
   "cell_type": "code",
   "execution_count": null,
   "metadata": {},
   "outputs": [],
   "source": [
    "ls_max = 10 # max number of linesearch steps\n",
    "it_max = 1000000 # max number of iterations"
   ]
  },
  {
   "cell_type": "code",
   "execution_count": null,
   "metadata": {},
   "outputs": [],
   "source": [
    "res = minimize(action, inst_ic, method='L-BFGS-B', bounds = bnds, \n",
    "               options={'maxls': ls_max, 'maxiter': it_max, 'maxfun': it_max})\n",
    "print(res.message)"
   ]
  },
  {
   "cell_type": "code",
   "execution_count": 12,
   "metadata": {},
   "outputs": [
    {
     "data": {
      "image/png": "[encoded data removed]",
      "text/plain": [
       "<Figure size 1080x720 with 1 Axes>"
      ]
     },
     "metadata": {
      "needs_background": "light"
     },
     "output_type": "display_data"
    }
   ],
   "source": [
    "fig, ax = plt.subplots(figsize=(15, 10))\n",
    "\n",
    "ax.plot(time[:5], analytic_solution(time, initial_point, final_point, s)[:5],linewidth=3,label='Analytic')\n",
    "ax.plot(time[:5], test.instanton[:5],'*',label='Numeric')\n",
    "ax.grid()\n",
    "ax.legend()\n",
    "ax.set_xlabel('Time')\n",
    "ax.set_ylabel('X')\n",
    "ax.set_title('Instanton Comparison')\n",
    "fig.show()"
   ]
  },
  {
   "cell_type": "code",
   "execution_count": null,
   "metadata": {},
   "outputs": [],
   "source": []
  }
 ],
 "metadata": {
  "kernelspec": {
   "display_name": "Python3 (personal)",
   "language": "python",
   "name": "python3_personal"
  },
  "language_info": {
   "codemirror_mode": {
    "name": "ipython",
    "version": 3
   },
   "file_extension": ".py",
   "mimetype": "text/x-python",
   "name": "python",
   "nbconvert_exporter": "python",
   "pygments_lexer": "ipython3",
   "version": "3.7.7"
  }
 },
 "nbformat": 4,
 "nbformat_minor": 2
}
