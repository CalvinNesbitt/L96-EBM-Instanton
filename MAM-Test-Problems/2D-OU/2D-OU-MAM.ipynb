{
 "cells": [
  {
   "cell_type": "markdown",
   "metadata": {},
   "source": [
    "# 2D Ornstein Uhlenbeck Type System Instanton Calculation via MAM\n",
    "\n",
    "In this notebook we will use the MAM method outlined in [1] to calculate an instanton in a 2D OU type model. We will compare this to the analytic solution as well as the numerically integrated Hamilton Equations.\n",
    "\n",
    "- [1] Weinan, E., Ren, W. and Vanden-Eijnden, E., 2004. Minimum action method for the study of rare events. Communications on pure and applied mathematics, 57(5), pp.637-656."
   ]
  },
  {
   "cell_type": "code",
   "execution_count": 1,
   "metadata": {},
   "outputs": [],
   "source": [
    "# Instanton Code Imports\n",
    "import sys\n",
    "sys.path.append('/rds/general/user/cfn18/home/Instantons/L96-EBM-Instanton')\n",
    "    \n",
    "from mam import Mam_alg\n",
    "from instanton_utility import *\n",
    "    \n",
    "# Standard Package imports\n",
    "import numpy as np\n",
    "import numpy.linalg as la\n",
    "import numpy.random as rm\n",
    "from scipy.linalg import expm\n",
    "\n",
    "import matplotlib.pyplot as plt\n",
    "from tqdm.notebook import tqdm"
   ]
  },
  {
   "cell_type": "markdown",
   "metadata": {},
   "source": [
    "# Problem Definition & Parameter Choices\n",
    "\n",
    "Here we define the drift function of the 2D OU system and specify our parameter choices."
   ]
  },
  {
   "cell_type": "code",
   "execution_count": 2,
   "metadata": {},
   "outputs": [],
   "source": [
    "# Drift Function Definition\n",
    "\n",
    "def drift(phi, s):\n",
    "    \"\"\"Drift term\"\"\"\n",
    "    gamma1, gamma2, eps, r = s\n",
    "    x, T = phi.T\n",
    "    return np.array([- gamma1 * (x + T), -gamma2 * (T - x)]).T"
   ]
  },
  {
   "cell_type": "code",
   "execution_count": 3,
   "metadata": {},
   "outputs": [],
   "source": [
    "# Diffusion Defintion\n",
    "\n",
    "r = 0.01\n",
    "D = np.zeros((2, 2))\n",
    "D[0, 0] = 1\n",
    "D[1, 1] = r**2\n",
    "Dinv = la.inv(D)\n",
    "\n",
    "def diffusion(where, s): # Just returns constant so we don't keep calling la.inv\n",
    "    return Dinv"
   ]
  },
  {
   "cell_type": "code",
   "execution_count": 4,
   "metadata": {},
   "outputs": [],
   "source": [
    "# Parameter Specification\n",
    "\n",
    "# OU Parameters\n",
    "gamma1 = 10\n",
    "gamma2 = 0.1\n",
    "eps = 0.01\n",
    "s = [gamma1, gamma2, eps, r]\n",
    "\n",
    "# Time\n",
    "t0 = 0\n",
    "tF = 1\n",
    "dt = 0.01\n",
    "steps = int((tF-t0)/dt) + 1\n",
    "time = np.arange(t0, tF + dt, dt)"
   ]
  },
  {
   "cell_type": "markdown",
   "metadata": {},
   "source": [
    "## MAM Set up\n",
    "\n",
    "Here we define the initial instanton path for the minimisation problem, specify bounds and create a MAM algorithm object."
   ]
  },
  {
   "cell_type": "code",
   "execution_count": 5,
   "metadata": {},
   "outputs": [],
   "source": [
    "# Instanton Initialisation\n",
    "\n",
    "initial_point = [0, 0]\n",
    "final_point = [1, 0.5]\n",
    "\n",
    "inst_ic = np.linspace(initial_point, final_point, steps)"
   ]
  },
  {
   "cell_type": "code",
   "execution_count": 6,
   "metadata": {},
   "outputs": [],
   "source": [
    "# \n",
    "# Example Bounds Grid - Useful should you want to specify your own bounds\n",
    "# -------------------\n",
    "# \n",
    "\n",
    "bnds = np.zeros((*inst_ic.shape, 2)) # indexed by Time, ndim, lower/upper\n",
    "\n",
    "# t = 0 Constraint\n",
    "bnds[0,...,0] = initial_point - 0.001 * np.ones(inst_ic.shape[1]) # Lower\n",
    "bnds[0,...,1] = initial_point + 0.001 * np.ones(inst_ic.shape[1]) # Upper\n",
    "\n",
    "# Bounds for t \\in (dt, T-dt)\n",
    "bnds[1:-1, ..., 0] = - np.inf\n",
    "bnds[1:-1, ..., 1] = np.inf\n",
    "\n",
    "# t = T Constraint\n",
    "bnds[-1,...,0] = final_point - 0.001 * np.ones(inst_ic.shape[1])\n",
    "bnds[-1,...,1] = final_point + 0.001 * np.ones(inst_ic.shape[1])"
   ]
  },
  {
   "cell_type": "code",
   "execution_count": 7,
   "metadata": {},
   "outputs": [],
   "source": [
    "# Object creation\n",
    "\n",
    "# ou_mam = Mam_alg(a, s, inst_ic, time, Dinv) # default bounds\n",
    "ou_mam = Mam_alg(drift, s, diffusion, inst_ic, time, bnds=bnds) # specify bounds "
   ]
  },
  {
   "cell_type": "code",
   "execution_count": 8,
   "metadata": {},
   "outputs": [
    {
     "name": "stdout",
     "output_type": "stream",
     "text": [
      "1.47 ms ± 1.56 µs per loop (mean ± std. dev. of 7 runs, 1000 loops each)\n"
     ]
    }
   ],
   "source": [
    "%%timeit\n",
    "ou_mam._action(inst_ic)"
   ]
  },
  {
   "cell_type": "markdown",
   "metadata": {},
   "source": [
    "## Running MAM Algorithm\n",
    "\n",
    "We run the algorithm for fixed number of iterations/until convergence."
   ]
  },
  {
   "cell_type": "code",
   "execution_count": 9,
   "metadata": {},
   "outputs": [],
   "source": [
    "mx = 200000\n",
    "options={'maxls': 10, 'maxiter': mx, 'maxfun': mx} "
   ]
  },
  {
   "cell_type": "code",
   "execution_count": 10,
   "metadata": {},
   "outputs": [
    {
     "name": "stdout",
     "output_type": "stream",
     "text": [
      "b'STOP: TOTAL NO. of f AND g EVALUATIONS EXCEEDS LIMIT'\n"
     ]
    }
   ],
   "source": [
    "result = ou_mam.run(options)"
   ]
  },
  {
   "cell_type": "code",
   "execution_count": 11,
   "metadata": {},
   "outputs": [
    {
     "name": "stdout",
     "output_type": "stream",
     "text": [
      "Algorithm has made 200158 function evaluations\n"
     ]
    }
   ],
   "source": [
    "print(f'Algorithm has made {ou_mam.nfev} function evaluations')"
   ]
  },
  {
   "cell_type": "markdown",
   "metadata": {},
   "source": [
    "## Comparison With Analytic Solution\n",
    "\n",
    "We plot the MAM output alongside the known analytic solution."
   ]
  },
  {
   "cell_type": "code",
   "execution_count": 12,
   "metadata": {},
   "outputs": [],
   "source": [
    "def expA(t, p):\n",
    "    gamma1, gamma2, eps, r = p\n",
    "    row1 = np.array([-gamma1, -gamma1, 1, 0])\n",
    "    row2 = np.array([gamma2, -gamma2, 0, r**2])\n",
    "    row3 = np.array([0, 0, gamma1, -gamma2])\n",
    "    row4 = np.array([0, 0, gamma1, gamma2])\n",
    "    A = np.vstack((row1, row2, row3, row4))\n",
    "    return expm(A * t) "
   ]
  },
  {
   "cell_type": "code",
   "execution_count": 13,
   "metadata": {},
   "outputs": [
    {
     "name": "stdout",
     "output_type": "stream",
     "text": [
      "c = [   0.            0.           27.14845177 2660.16329043]\n"
     ]
    }
   ],
   "source": [
    "# Solving Linear System arising from Boundary Conditions\n",
    "# a * c = b\n",
    "\n",
    "a = np.vstack((expA(t0, s)[:2], expA(tF, s)[:2]))\n",
    "b = np.hstack([initial_point, final_point]) # BCs\n",
    "c = la.solve(a, b)\n",
    "print(f'c = {c}')"
   ]
  },
  {
   "cell_type": "code",
   "execution_count": 14,
   "metadata": {},
   "outputs": [],
   "source": [
    "analytic_solution = np.vstack([np.matmul(expA(t, s), c) for t in time])"
   ]
  },
  {
   "cell_type": "code",
   "execution_count": 15,
   "metadata": {},
   "outputs": [
    {
     "data": {
      "image/png": "[encoded data removed]",
      "text/plain": [
       "<Figure size 1080x576 with 1 Axes>"
      ]
     },
     "metadata": {
      "needs_background": "light"
     },
     "output_type": "display_data"
    }
   ],
   "source": [
    "# Comparison Plot\n",
    "\n",
    "fig, ax = plt.subplots(figsize=(15, 8))\n",
    "\n",
    "ax.grid()\n",
    "ax.set_title('$\\\\phi$ Comparison')\n",
    "ax.plot(time,  analytic_solution[:, 0],'b', linewidth=2, label = 'Analytic x')\n",
    "ax.plot(time, ou_mam.instanton[:, 0], 'r.', label = 'MAM x')\n",
    "\n",
    "ax.plot(time,  analytic_solution[:, 1],'k', linewidth=2, label = 'Analytic T')\n",
    "ax.plot(time, ou_mam.instanton[:, 1], 'g.', label = 'MAM T')\n",
    "\n",
    "ax.set_xlabel('Time')\n",
    "ax.set_ylabel('$\\\\phi(t)$')\n",
    "ax.legend()\n",
    "fig.show()"
   ]
  },
  {
   "cell_type": "code",
   "execution_count": 16,
   "metadata": {},
   "outputs": [
    {
     "data": {
      "image/png": "[encoded data removed]",
      "text/plain": [
       "<Figure size 1080x576 with 1 Axes>"
      ]
     },
     "metadata": {
      "needs_background": "light"
     },
     "output_type": "display_data"
    }
   ],
   "source": [
    "# MAM Plot\n",
    "\n",
    "fig, ax = plt.subplots(figsize=(15, 8))\n",
    "\n",
    "ax.grid()\n",
    "ax.set_title('$\\\\phi$ Comparison')\n",
    "ax.plot(time, ou_mam.instanton[:, 0], 'r.-', label = 'MAM x')\n",
    "\n",
    "ax.plot(time, ou_mam.instanton[:, 1], 'g.-', label = 'MAM T')\n",
    "\n",
    "ax.set_xlabel('Time')\n",
    "ax.set_ylabel('$\\\\phi(t)$')\n",
    "ax.legend()\n",
    "fig.show()"
   ]
  },
  {
   "cell_type": "markdown",
   "metadata": {},
   "source": [
    "## Calculating action For Nearby Paths\n",
    "\n",
    "We compare the action for slightly perturb paths, create a histogram and check if our found path does indeed minimise."
   ]
  },
  {
   "cell_type": "code",
   "execution_count": 17,
   "metadata": {},
   "outputs": [],
   "source": [
    "from instanton_utility import *"
   ]
  },
  {
   "cell_type": "code",
   "execution_count": 18,
   "metadata": {},
   "outputs": [],
   "source": [
    "# Creating A Load Of Random Paths to compare against\n",
    "\n",
    "# near_paths = [random_path(ou_mam.instanton, 0.01) for i in range(10000)] # Conclusion Different depending on paths\n",
    "near_paths = [random_path(ou_mam.instanton, 0.001) for i in range(10000)]"
   ]
  },
  {
   "cell_type": "code",
   "execution_count": 19,
   "metadata": {},
   "outputs": [
    {
     "ename": "TypeError",
     "evalue": "drift() takes 2 positional arguments but 3 were given",
     "output_type": "error",
     "traceback": [
      "\u001b[0;31m---------------------------------------------------------------------------\u001b[0m",
      "\u001b[0;31mTypeError\u001b[0m                                 Traceback (most recent call last)",
      "\u001b[0;32m<ipython-input-19-13f0a55919b9>\u001b[0m in \u001b[0;36m<module>\u001b[0;34m\u001b[0m\n\u001b[1;32m      1\u001b[0m \u001b[0;31m# Creating Object to Track Action Check\u001b[0m\u001b[0;34m\u001b[0m\u001b[0;34m\u001b[0m\u001b[0;34m\u001b[0m\u001b[0m\n\u001b[1;32m      2\u001b[0m \u001b[0;34m\u001b[0m\u001b[0m\n\u001b[0;32m----> 3\u001b[0;31m \u001b[0maction_track\u001b[0m \u001b[0;34m=\u001b[0m \u001b[0maction_minimisation_checker\u001b[0m\u001b[0;34m(\u001b[0m\u001b[0mdrift\u001b[0m\u001b[0;34m,\u001b[0m \u001b[0mou_mam\u001b[0m\u001b[0;34m.\u001b[0m\u001b[0minstanton\u001b[0m\u001b[0;34m,\u001b[0m \u001b[0;34m[\u001b[0m\u001b[0ms\u001b[0m\u001b[0;34m,\u001b[0m \u001b[0mtime\u001b[0m\u001b[0;34m,\u001b[0m \u001b[0mDinv\u001b[0m\u001b[0;34m]\u001b[0m\u001b[0;34m)\u001b[0m\u001b[0;34m\u001b[0m\u001b[0;34m\u001b[0m\u001b[0m\n\u001b[0m",
      "\u001b[0;32m~/Instantons/L96-EBM-Instanton/instanton_utility.py\u001b[0m in \u001b[0;36m__init__\u001b[0;34m(self, a, instanton, args)\u001b[0m\n\u001b[1;32m    111\u001b[0m             \u001b[0mself\u001b[0m\u001b[0;34m.\u001b[0m\u001b[0maction_value\u001b[0m \u001b[0;34m=\u001b[0m \u001b[0mself\u001b[0m\u001b[0;34m.\u001b[0m\u001b[0m_1d_action\u001b[0m\u001b[0;34m(\u001b[0m\u001b[0minstanton\u001b[0m\u001b[0;34m)\u001b[0m\u001b[0;34m\u001b[0m\u001b[0;34m\u001b[0m\u001b[0m\n\u001b[1;32m    112\u001b[0m         \u001b[0;32melse\u001b[0m\u001b[0;34m:\u001b[0m\u001b[0;34m\u001b[0m\u001b[0;34m\u001b[0m\u001b[0m\n\u001b[0;32m--> 113\u001b[0;31m             \u001b[0mself\u001b[0m\u001b[0;34m.\u001b[0m\u001b[0maction_value\u001b[0m \u001b[0;34m=\u001b[0m \u001b[0mself\u001b[0m\u001b[0;34m.\u001b[0m\u001b[0m_action\u001b[0m\u001b[0;34m(\u001b[0m\u001b[0minstanton\u001b[0m\u001b[0;34m)\u001b[0m\u001b[0;34m\u001b[0m\u001b[0;34m\u001b[0m\u001b[0m\n\u001b[0m\u001b[1;32m    114\u001b[0m \u001b[0;34m\u001b[0m\u001b[0m\n\u001b[1;32m    115\u001b[0m \u001b[0;34m\u001b[0m\u001b[0m\n",
      "\u001b[0;32m~/Instantons/L96-EBM-Instanton/instanton_utility.py\u001b[0m in \u001b[0;36m_action\u001b[0;34m(self, path)\u001b[0m\n\u001b[1;32m    131\u001b[0m             \u001b[0mmethod\u001b[0m \u001b[0mreshapes\u001b[0m \u001b[0minto\u001b[0m \u001b[0;34m(\u001b[0m\u001b[0mtime\u001b[0m\u001b[0;34m,\u001b[0m \u001b[0mndim\u001b[0m\u001b[0;34m)\u001b[0m\u001b[0;34m\u001b[0m\u001b[0;34m\u001b[0m\u001b[0m\n\u001b[1;32m    132\u001b[0m         \"\"\"\n\u001b[0;32m--> 133\u001b[0;31m         \u001b[0mv\u001b[0m \u001b[0;34m=\u001b[0m \u001b[0mnp\u001b[0m\u001b[0;34m.\u001b[0m\u001b[0mvstack\u001b[0m\u001b[0;34m(\u001b[0m\u001b[0mnp\u001b[0m\u001b[0;34m.\u001b[0m\u001b[0mgradient\u001b[0m\u001b[0;34m(\u001b[0m\u001b[0mpath\u001b[0m\u001b[0;34m,\u001b[0m \u001b[0mself\u001b[0m\u001b[0;34m.\u001b[0m\u001b[0mtime\u001b[0m\u001b[0;34m.\u001b[0m\u001b[0mflatten\u001b[0m\u001b[0;34m(\u001b[0m\u001b[0;34m)\u001b[0m\u001b[0;34m,\u001b[0m \u001b[0;36m1\u001b[0m\u001b[0;34m)\u001b[0m\u001b[0;34m[\u001b[0m\u001b[0;36m0\u001b[0m\u001b[0;34m]\u001b[0m\u001b[0;34m)\u001b[0m \u001b[0;34m-\u001b[0m \u001b[0mself\u001b[0m\u001b[0;34m.\u001b[0m\u001b[0m_b\u001b[0m\u001b[0;34m(\u001b[0m\u001b[0;36m0\u001b[0m\u001b[0;34m,\u001b[0m \u001b[0mpath\u001b[0m\u001b[0;34m,\u001b[0m \u001b[0mself\u001b[0m\u001b[0;34m.\u001b[0m\u001b[0mb_args\u001b[0m\u001b[0;34m)\u001b[0m\u001b[0;34m\u001b[0m\u001b[0;34m\u001b[0m\u001b[0m\n\u001b[0m\u001b[1;32m    134\u001b[0m \u001b[0;34m\u001b[0m\u001b[0m\n\u001b[1;32m    135\u001b[0m         \u001b[0;31m# Dot product calulcation\u001b[0m\u001b[0;34m\u001b[0m\u001b[0;34m\u001b[0m\u001b[0;34m\u001b[0m\u001b[0m\n",
      "\u001b[0;31mTypeError\u001b[0m: drift() takes 2 positional arguments but 3 were given"
     ]
    }
   ],
   "source": [
    "# Creating Object to Track Action Check\n",
    "\n",
    "action_track = action_minimisation_checker(drift, ou_mam.instanton, [s, time, Dinv])"
   ]
  },
  {
   "cell_type": "code",
   "execution_count": null,
   "metadata": {},
   "outputs": [],
   "source": [
    "# Doing the Comparison\n",
    "\n",
    "for path in near_paths:\n",
    "    action_track.compare(path)"
   ]
  },
  {
   "cell_type": "code",
   "execution_count": null,
   "metadata": {},
   "outputs": [],
   "source": [
    "# Histogram \n",
    "\n",
    "fig, ax = plt.subplots(figsize=(15, 8))\n",
    "\n",
    "ax.grid()\n",
    "bins, edges, patches = ax.hist(action_track.av_list, bins=100, density=True)\n",
    "ax.plot(np.full_like(np.linspace(0, max(bins)), action_track.action_value), \n",
    "        np.linspace(0, max(bins)), '--o', label='MAM Instanton')\n",
    "ax.set_xlabel('Action Value')\n",
    "ax.set_ylabel('$\\\\rho$')\n",
    "ax.set_title('Action Density For Nearby Paths')\n",
    "ax.legend()\n",
    "fig.show()"
   ]
  },
  {
   "cell_type": "code",
   "execution_count": null,
   "metadata": {},
   "outputs": [],
   "source": [
    "# Example of perturbed path\n",
    "# Comparison Plot\n",
    "\n",
    "fig, ax = plt.subplots(figsize=(15, 8))\n",
    "\n",
    "ax.grid()\n",
    "ax.set_title('What The Perturbed Paths Look Like')\n",
    "ax.plot(time,  near_paths[100][:, 0],'b', linewidth=2, label = 'Perturbed Path x')\n",
    "ax.plot(time, ou_mam.instanton[:, 0], 'r.', label = 'MAM x')\n",
    "\n",
    "ax.plot(time,  near_paths[100][:, 1],'k', linewidth=2, label = 'Perturbed Path T')\n",
    "ax.plot(time, ou_mam.instanton[:, 1], 'g.', label = 'MAM T')\n",
    "\n",
    "ax.set_xlabel('Time')\n",
    "ax.set_ylabel('$\\\\phi(t)$')\n",
    "ax.legend()\n",
    "fig.show()"
   ]
  }
 ],
 "metadata": {
  "kernelspec": {
   "display_name": "Python3 (personal)",
   "language": "python",
   "name": "python3_personal"
  },
  "language_info": {
   "codemirror_mode": {
    "name": "ipython",
    "version": 3
   },
   "file_extension": ".py",
   "mimetype": "text/x-python",
   "name": "python",
   "nbconvert_exporter": "python",
   "pygments_lexer": "ipython3",
   "version": "3.7.7"
  }
 },
 "nbformat": 4,
 "nbformat_minor": 2
}
