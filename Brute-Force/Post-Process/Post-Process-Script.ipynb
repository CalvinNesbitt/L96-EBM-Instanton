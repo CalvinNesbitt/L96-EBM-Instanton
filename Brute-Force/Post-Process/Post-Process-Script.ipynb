{
 "cells": [
  {
   "cell_type": "code",
   "execution_count": 2,
   "metadata": {},
   "outputs": [],
   "source": [
    "from l96EsPP import *"
   ]
  },
  {
   "cell_type": "code",
   "execution_count": 3,
   "metadata": {},
   "outputs": [],
   "source": [
    "# Making list of experiment names\n",
    "home = os.path.expanduser(\"~\")\n",
    "\n",
    "e_names = []\n",
    "for K in [20, 40]:\n",
    "    for eps in [0.1, 0.01]:\n",
    "        n = f'k{K}_eps{eps}'.replace('.', '_')\n",
    "        e_names.append(n)\n",
    "\n",
    "# Ephemeral Directories containing experiments  \n",
    "run_dirs = []\n",
    "for n in e_names:\n",
    "    run_dirs.append('/rds/general/user/cfn18/ephemeral/L96-EBM-Stochastic/' + n)\n",
    "\n",
    "# Directories we will save output\n",
    "save_dirs = []\n",
    "for n in e_names:\n",
    "    save_dirs.append(home + '/Instantons/L96-EBM-Instanton/Brute-Force/Data/' + n)"
   ]
  },
  {
   "cell_type": "code",
   "execution_count": 3,
   "metadata": {},
   "outputs": [
    {
     "name": "stderr",
     "output_type": "stream",
     "text": [
      "  0%|          | 0/1 [00:00<?, ?it/s]"
     ]
    },
    {
     "name": "stdout",
     "output_type": "stream",
     "text": [
      "Sorting /rds/general/user/cfn18/ephemeral/L96-EBM-Stochastic/k20_eps0_1\n",
      "\n",
      "\n"
     ]
    },
    {
     "name": "stderr",
     "output_type": "stream",
     "text": [
      "100%|██████████| 1/1 [00:54<00:00, 54.56s/it]\n",
      "  0%|          | 0/1 [00:00<?, ?it/s]"
     ]
    },
    {
     "name": "stdout",
     "output_type": "stream",
     "text": [
      "Sorting /rds/general/user/cfn18/ephemeral/L96-EBM-Stochastic/k20_eps0_01\n",
      "\n",
      "\n"
     ]
    },
    {
     "name": "stderr",
     "output_type": "stream",
     "text": [
      "100%|██████████| 1/1 [01:24<00:00, 84.40s/it]\n",
      "  0%|          | 0/1 [00:00<?, ?it/s]"
     ]
    },
    {
     "name": "stdout",
     "output_type": "stream",
     "text": [
      "Sorting /rds/general/user/cfn18/ephemeral/L96-EBM-Stochastic/k40_eps0_1\n",
      "\n",
      "\n"
     ]
    },
    {
     "name": "stderr",
     "output_type": "stream",
     "text": [
      "100%|██████████| 1/1 [00:51<00:00, 51.56s/it]\n",
      "  0%|          | 0/1 [00:00<?, ?it/s]"
     ]
    },
    {
     "name": "stdout",
     "output_type": "stream",
     "text": [
      "Sorting /rds/general/user/cfn18/ephemeral/L96-EBM-Stochastic/k40_eps0_01\n",
      "\n",
      "\n"
     ]
    },
    {
     "name": "stderr",
     "output_type": "stream",
     "text": [
      "100%|██████████| 1/1 [02:24<00:00, 144.58s/it]\n"
     ]
    }
   ],
   "source": [
    "# Sorting and saving each experiment\n",
    "\n",
    "for (rd, save) in zip(run_dirs, save_dirs):\n",
    "    runs = list_runs(rd)[:6]\n",
    "    os.makedirs(save, exist_ok=True)\n",
    "    print(f'Sorting {rd}\\n\\n')\n",
    "    sort_n_save(runs, save, prog=True)"
   ]
  },
  {
   "cell_type": "code",
   "execution_count": 4,
   "metadata": {},
   "outputs": [
    {
     "name": "stdout",
     "output_type": "stream",
     "text": [
      "/rds/general/user/cfn18/home/Instantons/L96-EBM-Instanton/Brute-Force/Data/k20_eps0_1\n",
      "rare_list.pickle\n",
      "184\n",
      "corrupt_list.pickle\n",
      "5\n",
      "boring_list.pickle\n",
      "791\n",
      "/rds/general/user/cfn18/home/Instantons/L96-EBM-Instanton/Brute-Force/Data/k20_eps0_01\n",
      "rare_list.pickle\n",
      "0\n",
      "corrupt_list.pickle\n",
      "1\n",
      "boring_list.pickle\n",
      "990\n",
      "/rds/general/user/cfn18/home/Instantons/L96-EBM-Instanton/Brute-Force/Data/k40_eps0_1\n"
     ]
    },
    {
     "ename": "FileNotFoundError",
     "evalue": "[Errno 2] No such file or directory: '/rds/general/user/cfn18/home/Instantons/L96-EBM-Instanton/Brute-Force/Data/k40_eps0_1'",
     "output_type": "error",
     "traceback": [
      "\u001b[0;31m---------------------------------------------------------------------------\u001b[0m",
      "\u001b[0;31mFileNotFoundError\u001b[0m                         Traceback (most recent call last)",
      "\u001b[0;32m<ipython-input-4-aef5bb791e10>\u001b[0m in \u001b[0;36m<module>\u001b[0;34m\u001b[0m\n\u001b[1;32m      1\u001b[0m \u001b[0;32mfor\u001b[0m \u001b[0msd\u001b[0m \u001b[0;32min\u001b[0m \u001b[0msave_dirs\u001b[0m\u001b[0;34m:\u001b[0m\u001b[0;34m\u001b[0m\u001b[0;34m\u001b[0m\u001b[0m\n\u001b[1;32m      2\u001b[0m     \u001b[0mprint\u001b[0m\u001b[0;34m(\u001b[0m\u001b[0msd\u001b[0m\u001b[0;34m)\u001b[0m\u001b[0;34m\u001b[0m\u001b[0;34m\u001b[0m\u001b[0m\n\u001b[0;32m----> 3\u001b[0;31m     \u001b[0;32mfor\u001b[0m \u001b[0mfile\u001b[0m \u001b[0;32min\u001b[0m \u001b[0mos\u001b[0m\u001b[0;34m.\u001b[0m\u001b[0mlistdir\u001b[0m\u001b[0;34m(\u001b[0m\u001b[0msd\u001b[0m\u001b[0;34m)\u001b[0m\u001b[0;34m:\u001b[0m\u001b[0;34m\u001b[0m\u001b[0;34m\u001b[0m\u001b[0m\n\u001b[0m\u001b[1;32m      4\u001b[0m         \u001b[0ml\u001b[0m \u001b[0;34m=\u001b[0m \u001b[0munpickler\u001b[0m\u001b[0;34m(\u001b[0m\u001b[0msd\u001b[0m \u001b[0;34m+\u001b[0m \u001b[0;34m'/'\u001b[0m \u001b[0;34m+\u001b[0m \u001b[0mfile\u001b[0m\u001b[0;34m[\u001b[0m\u001b[0;34m:\u001b[0m\u001b[0;34m-\u001b[0m\u001b[0;36m7\u001b[0m\u001b[0;34m]\u001b[0m\u001b[0;34m)\u001b[0m\u001b[0;34m\u001b[0m\u001b[0;34m\u001b[0m\u001b[0m\n\u001b[1;32m      5\u001b[0m         \u001b[0mprint\u001b[0m\u001b[0;34m(\u001b[0m\u001b[0mfile\u001b[0m\u001b[0;34m)\u001b[0m\u001b[0;34m\u001b[0m\u001b[0;34m\u001b[0m\u001b[0m\n",
      "\u001b[0;31mFileNotFoundError\u001b[0m: [Errno 2] No such file or directory: '/rds/general/user/cfn18/home/Instantons/L96-EBM-Instanton/Brute-Force/Data/k40_eps0_1'"
     ]
    }
   ],
   "source": [
    "for sd in save_dirs:\n",
    "    print(sd)\n",
    "    for file in os.listdir(sd):\n",
    "        l = unpickler(sd + '/' + file[:-7])\n",
    "        print(file)\n",
    "        print(len(l))"
   ]
  },
  {
   "cell_type": "code",
   "execution_count": 12,
   "metadata": {},
   "outputs": [
    {
     "data": {
      "text/plain": [
       "'rare_list'"
      ]
     },
     "execution_count": 12,
     "metadata": {},
     "output_type": "execute_result"
    }
   ],
   "source": [
    "file[:-7]"
   ]
  },
  {
   "cell_type": "code",
   "execution_count": null,
   "metadata": {},
   "outputs": [],
   "source": [
    "sort_n_save"
   ]
  },
  {
   "cell_type": "code",
   "execution_count": null,
   "metadata": {},
   "outputs": [],
   "source": [
    "home_dir = 'rds/general/user/cfn18/home/Instantons/L96-EBM-Instanton/Brute-Force/'"
   ]
  },
  {
   "cell_type": "code",
   "execution_count": null,
   "metadata": {},
   "outputs": [],
   "source": [
    "home = os.path.expanduser(\"~\")\n",
    "os.chdir(home + '/Instantons/L96-EBM-Instanton/Brute-Force/Data')\n",
    "os.makedirs('k20_eps0_01TEST')"
   ]
  },
  {
   "cell_type": "code",
   "execution_count": null,
   "metadata": {},
   "outputs": [],
   "source": []
  },
  {
   "cell_type": "code",
   "execution_count": null,
   "metadata": {},
   "outputs": [],
   "source": [
    "home = os.path.expanduser(\"~\")"
   ]
  },
  {
   "cell_type": "code",
   "execution_count": null,
   "metadata": {},
   "outputs": [],
   "source": [
    "home"
   ]
  },
  {
   "cell_type": "code",
   "execution_count": null,
   "metadata": {},
   "outputs": [],
   "source": [
    "os.chdir(home)"
   ]
  },
  {
   "cell_type": "code",
   "execution_count": null,
   "metadata": {},
   "outputs": [],
   "source": [
    "os.getcwd()"
   ]
  },
  {
   "cell_type": "code",
   "execution_count": null,
   "metadata": {},
   "outputs": [],
   "source": []
  }
 ],
 "metadata": {
  "kernelspec": {
   "display_name": "Python [conda env:personalpy3]",
   "language": "python",
   "name": "conda-env-personalpy3-py"
  },
  "language_info": {
   "codemirror_mode": {
    "name": "ipython",
    "version": 3
   },
   "file_extension": ".py",
   "mimetype": "text/x-python",
   "name": "python",
   "nbconvert_exporter": "python",
   "pygments_lexer": "ipython3",
   "version": "3.7.7"
  }
 },
 "nbformat": 4,
 "nbformat_minor": 2
}
