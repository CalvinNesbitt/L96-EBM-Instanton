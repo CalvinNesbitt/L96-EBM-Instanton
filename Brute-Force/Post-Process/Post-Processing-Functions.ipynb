{
 "cells": [
  {
   "cell_type": "markdown",
   "metadata": {},
   "source": [
    "# Brute Force Utility Functions\n",
    "\n",
    "In this notebook we write some functions that will be useful for opening & analysing the output from our stochastic integrations of the L96 EBM model."
   ]
  },
  {
   "cell_type": "code",
   "execution_count": 82,
   "metadata": {},
   "outputs": [],
   "source": [
    "import xarray as xr\n",
    "import numpy as np\n",
    "import os\n",
    "import matplotlib.pyplot as plt\n",
    "from tqdm.notebook import tqdm\n",
    "from scipy.stats import gaussian_kde\n",
    "import pickle"
   ]
  },
  {
   "cell_type": "code",
   "execution_count": 2,
   "metadata": {},
   "outputs": [],
   "source": [
    "%load_ext line_profiler"
   ]
  },
  {
   "cell_type": "code",
   "execution_count": 3,
   "metadata": {},
   "outputs": [],
   "source": [
    "# Data Directories\n",
    "\n",
    "# k5_eps0_1_dir = '/rds/general/user/cfn18/ephemeral/L96-EBM-Stochastic/k5_eps0_1/'\n",
    "# k5_eps0_01_dir = '/rds/general/user/cfn18/ephemeral/L96-EBM-Stochastic/k5_eps0_01/'\n",
    "# k20_eps0_01_dir = '/rds/general/user/cfn18/ephemeral/L96-EBM-Stochastic/k20_eps0_01/'\n",
    "\n",
    "small_dir = '/rds/general/user/cfn18/ephemeral/L96-EBM-Stochastic/k20_eps0_1_SHORT'\n",
    "big_dir = '/rds/general/user/cfn18/ephemeral/L96-EBM-Stochastic/k20_eps0_1'"
   ]
  },
  {
   "cell_type": "markdown",
   "metadata": {},
   "source": [
    "### Function for input/output"
   ]
  },
  {
   "cell_type": "markdown",
   "metadata": {},
   "source": [
    "Some notes:\n",
    "\n",
    "- From a linecheck it seems 95% + of the time is spent my xr.open_mfdataset"
   ]
  },
  {
   "cell_type": "code",
   "execution_count": 6,
   "metadata": {},
   "outputs": [],
   "source": [
    "def list_runs(d, s=slice(0, -1, 1)):\n",
    "    \"\"\"\n",
    "    Get list of all directories containing *.nc files in array jobs run.\n",
    "    \n",
    "    d, param, string\n",
    "        Name of array jobs directory.\n",
    "    s, param, slice\n",
    "        Slice to index the array jobs we filter through.\n",
    "    \n",
    "    run_list, output, list\n",
    "        List of directory names.\n",
    "        Each directory will contatin a load of .nc files.\n",
    "    \"\"\"\n",
    "    run_list = [] \n",
    "    runs = os.listdir(d) # list of array job runs\n",
    "    runs.sort(key=float)\n",
    "    for file in runs[s]:\n",
    "        folder = d + '/' + file +'/'\n",
    "        for Tfile in os.listdir(folder):\n",
    "            subfolder = folder + Tfile\n",
    "            run_list.append(subfolder)\n",
    "    return run_list"
   ]
  },
  {
   "cell_type": "code",
   "execution_count": 7,
   "metadata": {},
   "outputs": [],
   "source": [
    "k20_run_list = list_runs(big_dir)"
   ]
  },
  {
   "cell_type": "code",
   "execution_count": 8,
   "metadata": {},
   "outputs": [],
   "source": [
    "def load_runs(d_list, prog=True):\n",
    "    \"\"\"\n",
    "    Load a list of runs.\n",
    "    \n",
    "    d_list, param, list\n",
    "        List of directory names.\n",
    "        Each should contain many .nc files\n",
    "\n",
    "    results, output, list\n",
    "        List of xarray datasets.   \n",
    "    \"\"\"\n",
    "    results = [] \n",
    "    \n",
    "    for directory in tqdm(d_list, disable = not prog):\n",
    "        try:\n",
    "            ds = xr.open_mfdataset(directory + '/*.nc', combine='by_coords', concat_dim='time')\n",
    "            results.append(ds)\n",
    "        except:\n",
    "            print(f'Error opening {directory}')\n",
    "    return results"
   ]
  },
  {
   "cell_type": "code",
   "execution_count": 10,
   "metadata": {},
   "outputs": [
    {
     "data": {
      "application/vnd.jupyter.widget-view+json": {
       "model_id": "21db5933e630471f9f6487044261b95c",
       "version_major": 2,
       "version_minor": 0
      },
      "text/plain": [
       "HBox(children=(FloatProgress(value=0.0, max=3.0), HTML(value='')))"
      ]
     },
     "metadata": {},
     "output_type": "display_data"
    },
    {
     "name": "stdout",
     "output_type": "stream",
     "text": [
      "Error opening /rds/general/user/cfn18/ephemeral/L96-EBM-Stochastic/k20_eps0_1/11/T_258_485884\n",
      "\n"
     ]
    }
   ],
   "source": [
    "k20_runs = load_runs(k20_run_list[20:23])"
   ]
  },
  {
   "cell_type": "code",
   "execution_count": 11,
   "metadata": {},
   "outputs": [],
   "source": [
    "def close_list(run):\n",
    "    for ds in run:\n",
    "        ds.close()\n",
    "    print('Closed Runs')"
   ]
  },
  {
   "cell_type": "code",
   "execution_count": 12,
   "metadata": {},
   "outputs": [
    {
     "name": "stdout",
     "output_type": "stream",
     "text": [
      "Closed Runs\n"
     ]
    }
   ],
   "source": [
    "close_list(k20_runs)"
   ]
  },
  {
   "cell_type": "markdown",
   "metadata": {},
   "source": [
    "### Function for sorting out array jobs results"
   ]
  },
  {
   "cell_type": "code",
   "execution_count": 13,
   "metadata": {},
   "outputs": [],
   "source": [
    "def re_test(ds, thres=(270, 280)):\n",
    "    \"\"\"\n",
    "    Tests if a L96 EBM dataset contains a transition.\n",
    "    Returns boolean.\n",
    "    \n",
    "    ds, xr.dataset, param\n",
    "        Dataset containing the L96 EBM run.\n",
    "        \n",
    "    thres, tuple, param\n",
    "        Thresholds for transition test.\n",
    "        Form is (cold, hot).\n",
    "        Transition defined by (x<cold & x>hot) in the timeseries.\n",
    "        \n",
    "    transition, boolean, output\n",
    "        Did we have a transition?\n",
    "    \"\"\"\n",
    "    cold = ds.T.values<thres[0]\n",
    "    hot = ds.T.values>thres[1]\n",
    "    transition = np.any(cold) & np.any(hot)\n",
    "    return transition\n",
    "  "
   ]
  },
  {
   "cell_type": "code",
   "execution_count": 60,
   "metadata": {},
   "outputs": [],
   "source": [
    "def sort_runs(run_list, thres=(270, 280), prog=False):\n",
    "    \"\"\"\n",
    "    Sorts an array jobs directory in to transitions, no transitions and corrupt runs.\n",
    "    \n",
    "    run_list, param, list\n",
    "        List of directory names.\n",
    "        Can be produced by list_runs() for example.\n",
    "        Each directory should contatin a load of .nc files.\n",
    "    thres, option, tuple\n",
    "        Thresholds used to test for transitions (see re_test).\n",
    "    prog, option, boolean\n",
    "        Do you want a progress bar?\n",
    "        \n",
    "    [re_list, boring_list, corrupt_list], output, list\n",
    "        re_list is are directories containing a transition.  \n",
    "    \"\"\"\n",
    "\n",
    "    re_list = []\n",
    "    boring_list = []\n",
    "    corrupted_list = []\n",
    "    \n",
    "    if (prog):\n",
    "        print(f'{len(run_list)} runs to sort')\n",
    "        \n",
    "    for run in tqdm(run_list, disable=(not prog)):\n",
    "        corrupted = False\n",
    "        try:\n",
    "            # Open and check if it contains a transition\n",
    "            with xr.open_mfdataset(run + '/*.nc', combine='by_coords', concat_dim='time') as ds:\n",
    "                rare = re_test(ds, thres)\n",
    "        except:\n",
    "            print(f'Error opening {run}')\n",
    "            corrupted = True\n",
    "            \n",
    "        # Add to the correct list\n",
    "        if corrupted:\n",
    "            corrupted_list.append(run)\n",
    "        elif ((not corrupted) & rare):\n",
    "            re_list.append(run)\n",
    "        elif (not corrupted):\n",
    "            boring_list.append(run)\n",
    "            \n",
    "    return [re_list, boring_list, corrupted_list]"
   ]
  },
  {
   "cell_type": "code",
   "execution_count": 61,
   "metadata": {},
   "outputs": [],
   "source": [
    "k20_runs = list_runs(big_dir)"
   ]
  },
  {
   "cell_type": "code",
   "execution_count": 17,
   "metadata": {},
   "outputs": [],
   "source": [
    "run_dir = '/rds/general/user/cfn18/ephemeral/L96-EBM-Stochastic/k20_eps0_1'\n",
    "local_dir = 'Data/k20_eps0_1/'"
   ]
  },
  {
   "cell_type": "code",
   "execution_count": 73,
   "metadata": {},
   "outputs": [],
   "source": [
    "def pickler(l, s):\n",
    "    with open(s + '.pickle', 'wb') as output_file:\n",
    "        pickle.dump(l, output_file)\n",
    "        \n",
    "def unpickler(s):\n",
    "    with open(s + '.pickle', \"rb\") as input_file:\n",
    "        return pickle.load(input_file)\n",
    "        "
   ]
  },
  {
   "cell_type": "code",
   "execution_count": 72,
   "metadata": {},
   "outputs": [
    {
     "data": {
      "text/plain": [
       "1"
      ]
     },
     "execution_count": 72,
     "metadata": {},
     "output_type": "execute_result"
    }
   ],
   "source": [
    "int(6/5)"
   ]
  },
  {
   "cell_type": "code",
   "execution_count": 74,
   "metadata": {},
   "outputs": [],
   "source": [
    "def sort_n_save(run_list, save, prog=False):\n",
    "    \"\"\"\n",
    "    Sorts a list of run directories in to rare ones, boring ones\n",
    "    and corrupt ones. Pickles sorted lists at save.\n",
    "    \n",
    "    run_list, param, list\n",
    "        List of run directories.\n",
    "    save, param, string\n",
    "        Where to save output.\n",
    "    prog, option, boolean\n",
    "        Want a progress bar?\n",
    "    \"\"\"\n",
    "    \n",
    "    # Lists contain rare, boring and corrupt run directories\n",
    "    r_list = []\n",
    "    b_list = []\n",
    "    c_list = []\n",
    "    lists = [r_list, b_list, c_list]\n",
    "    list_names = ['rare_list', 'boring_list', 'corrupt_list']\n",
    "\n",
    "    # Break run list in to chunks of ~5\n",
    "    chunk_size = int(len(run_list)/5)\n",
    "\n",
    "    for chunk in tqdm(np.array_split(np.array(run_list), chunk_size), disable =(not prog)):\n",
    "\n",
    "        rare, boring, corr = sort_runs(chunk)\n",
    "        r_list += rare\n",
    "        b_list += boring\n",
    "        c_list += corr\n",
    "\n",
    "        # Save output for each chunk\n",
    "        for l, name in zip(lists, list_names):\n",
    "            pickler(l, save + name)\n",
    "            \n",
    "    return\n",
    "        "
   ]
  },
  {
   "cell_type": "code",
   "execution_count": null,
   "metadata": {},
   "outputs": [
    {
     "name": "stderr",
     "output_type": "stream",
     "text": [
      " 50%|█████     | 1/2 [00:54<00:54, 54.39s/it]"
     ]
    }
   ],
   "source": [
    "sort_n_save(k20_runs[:11], save_location, prog=True)"
   ]
  },
  {
   "cell_type": "code",
   "execution_count": 81,
   "metadata": {},
   "outputs": [
    {
     "name": "stdout",
     "output_type": "stream",
     "text": [
      "2\n",
      "9\n",
      "0\n"
     ]
    }
   ],
   "source": [
    "for name in list_names:\n",
    "    l = unpickler(save_location + name)\n",
    "    print(len(l))"
   ]
  },
  {
   "cell_type": "code",
   "execution_count": 22,
   "metadata": {},
   "outputs": [],
   "source": [
    "b_list += '1'"
   ]
  },
  {
   "cell_type": "code",
   "execution_count": 23,
   "metadata": {},
   "outputs": [
    {
     "data": {
      "text/plain": [
       "[['1'], ['1'], []]"
      ]
     },
     "execution_count": 23,
     "metadata": {},
     "output_type": "execute_result"
    }
   ],
   "source": [
    "all_lists"
   ]
  },
  {
   "cell_type": "code",
   "execution_count": 109,
   "metadata": {},
   "outputs": [
    {
     "name": "stdout",
     "output_type": "stream",
     "text": [
      "There are 490 blocks to search\n"
     ]
    },
    {
     "data": {
      "application/vnd.jupyter.widget-view+json": {
       "model_id": "6469ab90767e4652a6def26c3f8f7277",
       "version_major": 2,
       "version_minor": 0
      },
      "text/plain": [
       "HBox(children=(FloatProgress(value=0.0, max=2.0), HTML(value='')))"
      ]
     },
     "metadata": {},
     "output_type": "display_data"
    },
    {
     "name": "stdout",
     "output_type": "stream",
     "text": [
      "2 runs to sort\n",
      "2 runs to sort\n",
      "\n"
     ]
    }
   ],
   "source": [
    "# Split check in to Blocks\n",
    "bl = 2\n",
    "length = int(len(k20_runs))\n",
    "remainder = length%bl\n",
    "no_of_blocks = int((length - remainder)/bl)\n",
    "slices = [slice(i * bl, (i + 1) * bl) for i in range(no_of_blocks)]\n",
    "if remainder != 0:\n",
    "    remainder_slice = slice(length - remainder, length)\n",
    "    slices.append(remainder_slice)\n",
    "print(f'There are {len(slices)} blocks to search')\n",
    "\n",
    "r_list = []\n",
    "b_list = []\n",
    "c_list = []\n",
    "all_lists = [r_list, b_list, c_list]\n",
    "names = ['rare_list', 'boring_list', 'corrupt_list']\n",
    "for name, l in zip(names, all_lists):\n",
    "    pickler(l, local_dir + name)\n",
    "    \n",
    "for name in names:\n",
    "    all_lists = [unpickler(local_dir + name) for name in names]\n",
    "    \n",
    "for name, s in zip(names, tqdm(slices[:2])):\n",
    "    runs = k20_runs[s]\n",
    "    r, b, c = sort_runs(runs)\n",
    "    for (l, x) in zip(all_lists, [r, b, c]):\n",
    "        l += x\n",
    "        pickler(l, local_dir + name)"
   ]
  },
  {
   "cell_type": "code",
   "execution_count": 88,
   "metadata": {},
   "outputs": [],
   "source": [
    "pickler(k20_re, local_dir + 'rare_list')"
   ]
  },
  {
   "cell_type": "code",
   "execution_count": 76,
   "metadata": {},
   "outputs": [
    {
     "name": "stdout",
     "output_type": "stream",
     "text": [
      "4 runs to sort\n"
     ]
    },
    {
     "data": {
      "application/vnd.jupyter.widget-view+json": {
       "model_id": "20bde63d4f5a4451a741b47744521de5",
       "version_major": 2,
       "version_minor": 0
      },
      "text/plain": [
       "HBox(children=(FloatProgress(value=0.0, max=4.0), HTML(value='')))"
      ]
     },
     "metadata": {},
     "output_type": "display_data"
    },
    {
     "name": "stdout",
     "output_type": "stream",
     "text": [
      "/rds/general/user/cfn18/ephemeral/L96-EBM-Stochastic/k20_eps0_1/5/T_256_814006\n",
      "/rds/general/user/cfn18/ephemeral/L96-EBM-Stochastic/k20_eps0_1/5/T_293_171261\n",
      "/rds/general/user/cfn18/ephemeral/L96-EBM-Stochastic/k20_eps0_1/6/T_295_112701\n",
      "/rds/general/user/cfn18/ephemeral/L96-EBM-Stochastic/k20_eps0_1/6/T_258_319165\n",
      "\n"
     ]
    }
   ],
   "source": [
    "k20_re, k20_bo, k20_cor = sort_runs(k20_runs[8:12], prog=True)"
   ]
  },
  {
   "cell_type": "markdown",
   "metadata": {},
   "source": [
    "### Functions for finding Transitions"
   ]
  },
  {
   "cell_type": "code",
   "execution_count": 216,
   "metadata": {},
   "outputs": [],
   "source": [
    "def get_re_dirs(run_name, s=slice(0, -1, 1), thres=(270, 280), prog=False):\n",
    "    \"\"\"\n",
    "    Finds all the directories containing a transition in an array jobs run.\n",
    "    Recommended to use this when you're searching small directories.\n",
    "\n",
    "    run_name, param, string\n",
    "        Array jobs run directory.\n",
    "    s, option, slice\n",
    "        Slice for indexing runs in array jobs run.\n",
    "    thres, option, tuple\n",
    "        Thresholds used to test for transitions (see re_test).\n",
    "    prog, option, boolean\n",
    "        Do you want a progress bar?\n",
    "        \n",
    "    re_list, output, list\n",
    "        List of directories containing a transition.\n",
    "    \"\"\"\n",
    "    re_list = []\n",
    "    boring_list = []\n",
    "    corrupted_list = []\n",
    "    run_list = list_runs(run_name, s)\n",
    "        \n",
    "    for run in tqdm(run_list, disable=(not prog)):\n",
    "        corrupted = False\n",
    "        \n",
    "        # Open and check if it contains a transition\n",
    "        try:\n",
    "            with xr.open_mfdataset(run + '/*.nc', combine='by_coords', concat_dim='time') as ds:\n",
    "                rare = re_test(ds, thres)\n",
    "        except:\n",
    "            print(f'Error opening {run}')\n",
    "            corrupted = True\n",
    "            \n",
    "        # Make a note of rare ones\n",
    "        if corrupted:\n",
    "            corrupted_list.append(run)\n",
    "        elif (not corrupted & rare):\n",
    "            re_list.append(run)\n",
    "        elif (not corrupted):\n",
    "            boring_list.append(run)\n",
    "    return re_list, boring_list, corrupted_list"
   ]
  },
  {
   "cell_type": "code",
   "execution_count": 207,
   "metadata": {},
   "outputs": [
    {
     "name": "stdout",
     "output_type": "stream",
     "text": [
      "a\n"
     ]
    }
   ],
   "source": [
    "print('a')"
   ]
  },
  {
   "cell_type": "code",
   "execution_count": 217,
   "metadata": {},
   "outputs": [
    {
     "name": "stdout",
     "output_type": "stream",
     "text": [
      "2 runs to sort\n"
     ]
    },
    {
     "data": {
      "application/vnd.jupyter.widget-view+json": {
       "model_id": "48969f7f31474558ac26af03f9dff8e9",
       "version_major": 2,
       "version_minor": 0
      },
      "text/plain": [
       "HBox(children=(FloatProgress(value=0.0, max=2.0), HTML(value='')))"
      ]
     },
     "metadata": {},
     "output_type": "display_data"
    },
    {
     "name": "stdout",
     "output_type": "stream",
     "text": [
      "\n"
     ]
    }
   ],
   "source": [
    "re_list, boring_list, corrupted_list = get_re_dirs(big_dir, slice(12, 13), prog=True)"
   ]
  },
  {
   "cell_type": "code",
   "execution_count": 220,
   "metadata": {},
   "outputs": [
    {
     "data": {
      "text/plain": [
       "['/rds/general/user/cfn18/ephemeral/L96-EBM-Stochastic/k20_eps0_1/13/T_258_764058']"
      ]
     },
     "execution_count": 220,
     "metadata": {},
     "output_type": "execute_result"
    }
   ],
   "source": [
    "xr.open_mfdatatere_list[0]"
   ]
  },
  {
   "cell_type": "code",
   "execution_count": 196,
   "metadata": {},
   "outputs": [],
   "source": [
    "def re_search(run_name, save, thres=(270, 280), bl=5):\n",
    "    \"\"\"\n",
    "    Searches an array job run for transitions.\n",
    "    Saves a pickled list of the directories.\n",
    "    Recommended to use this when you're searching large directories.\n",
    "    \n",
    "    \n",
    "    run_name, param, string\n",
    "        The array jobs directory we're searching.\n",
    "    save, param, string\n",
    "        File name for outputted list of transition directories.\n",
    "    thres, option, tuple\n",
    "        Thresholds used to test for transitions (see re_test).\n",
    "    bl, option, int\n",
    "        How often we save.\n",
    "    \"\"\"\n",
    "    \n",
    "    re_list = []\n",
    "    \n",
    "    # Split check in to Blocks\n",
    "    length = int(len(os.listdir(run_name)))\n",
    "    remainder = length%bl\n",
    "    no_of_blocks = int((length - remainder)/bl)\n",
    "    slices = [slice(i * bl, (i + 1) * bl) for i in range(no_of_blocks)]\n",
    "    if remainder != 0:\n",
    "        remainder_slice = slice(length - remainder, length)\n",
    "        slices.append(remainder_slice)\n",
    "    print(f'There are {len(slices)} blocks to search')\n",
    "\n",
    "    # Search each block for rare events\n",
    "    for sl in tqdm(slices):\n",
    "        block_res = get_re_dirs(run_name, sl)\n",
    "        re_list += block_res\n",
    "        \n",
    "        # Savepoint after block searched\n",
    "        with open(save, \"wb\") as file:\n",
    "            pickle.dump(re_list, file)\n",
    "\n",
    "    \n"
   ]
  },
  {
   "cell_type": "code",
   "execution_count": null,
   "metadata": {},
   "outputs": [
    {
     "name": "stdout",
     "output_type": "stream",
     "text": [
      "There are 100 blocks to search\n"
     ]
    },
    {
     "data": {
      "application/vnd.jupyter.widget-view+json": {
       "model_id": "b6766350ad2e4ee0a172e4260b927919",
       "version_major": 2,
       "version_minor": 0
      },
      "text/plain": [
       "HBox(children=(FloatProgress(value=0.0), HTML(value='')))"
      ]
     },
     "metadata": {},
     "output_type": "display_data"
    },
    {
     "name": "stdout",
     "output_type": "stream",
     "text": [
      "Found one!\n",
      "Found one!\n"
     ]
    }
   ],
   "source": [
    "re_search(big_dir, 'Transitions/k20_eps0_1/re_list.pickle')"
   ]
  },
  {
   "cell_type": "code",
   "execution_count": 197,
   "metadata": {},
   "outputs": [],
   "source": [
    "error_file = (\n",
    "    '/rds/general/user/cfn18/ephemeral/L96-EBM-Stochastic/k20_eps0_1/11/T_258_485884/'\n",
    "    + 'L96-EBM-Stochastic-Trajectory992.nc'\n",
    ")"
   ]
  },
  {
   "cell_type": "code",
   "execution_count": 186,
   "metadata": {},
   "outputs": [],
   "source": [
    "ds = xr.open_dataset(error_file)"
   ]
  },
  {
   "cell_type": "code",
   "execution_count": 187,
   "metadata": {},
   "outputs": [
    {
     "data": {
      "text/plain": [
       "[<matplotlib.lines.Line2D at 0x15165c9acf10>]"
      ]
     },
     "execution_count": 187,
     "metadata": {},
     "output_type": "execute_result"
    },
    {
     "data": {
      "image/png": "[encoded data removed]",
      "text/plain": [
       "<Figure size 432x288 with 1 Axes>"
      ]
     },
     "metadata": {
      "needs_background": "light"
     },
     "output_type": "display_data"
    }
   ],
   "source": [
    "plt.plot(ds.time, ds.T)"
   ]
  },
  {
   "cell_type": "code",
   "execution_count": 139,
   "metadata": {},
   "outputs": [
    {
     "name": "stdout",
     "output_type": "stream",
     "text": [
      "There are 20 blocks to search\n"
     ]
    },
    {
     "data": {
      "application/vnd.jupyter.widget-view+json": {
       "model_id": "95b35cb75bae48e1a266a8979bbef89f",
       "version_major": 2,
       "version_minor": 0
      },
      "text/plain": [
       "HBox(children=(FloatProgress(value=0.0, max=20.0), HTML(value='')))"
      ]
     },
     "metadata": {},
     "output_type": "display_data"
    },
    {
     "name": "stdout",
     "output_type": "stream",
     "text": [
      "Found one!\n",
      "\n"
     ]
    }
   ],
   "source": [
    "re_dirs_block(small_dir, 'Transitions/re_list.pickle')"
   ]
  },
  {
   "cell_type": "code",
   "execution_count": null,
   "metadata": {},
   "outputs": [],
   "source": [
    "Instantons/L96-EBM-Instanton/Brute-Force/Transitions/k20_eps0_1/re_list.pickle"
   ]
  },
  {
   "cell_type": "code",
   "execution_count": 163,
   "metadata": {},
   "outputs": [],
   "source": [
    "with open('Transitions/re_list_test.pickle', \"rb\") as file:\n",
    "    a = pickle.load(file)"
   ]
  },
  {
   "cell_type": "code",
   "execution_count": 164,
   "metadata": {},
   "outputs": [
    {
     "data": {
      "text/plain": [
       "['/rds/general/user/cfn18/ephemeral/L96-EBM-Stochastic/k40_eps0_1_SHORT/43/T_290_437369']"
      ]
     },
     "execution_count": 164,
     "metadata": {},
     "output_type": "execute_result"
    }
   ],
   "source": [
    "a"
   ]
  },
  {
   "cell_type": "code",
   "execution_count": 132,
   "metadata": {},
   "outputs": [
    {
     "name": "stdout",
     "output_type": "stream",
     "text": [
      "There are 20 blocks to search\n"
     ]
    },
    {
     "data": {
      "application/vnd.jupyter.widget-view+json": {
       "model_id": "1e4db27015c0464b91061c2bfcbe9170",
       "version_major": 2,
       "version_minor": 0
      },
      "text/plain": [
       "HBox(children=(FloatProgress(value=0.0, max=20.0), HTML(value='')))"
      ]
     },
     "metadata": {},
     "output_type": "display_data"
    },
    {
     "name": "stdout",
     "output_type": "stream",
     "text": [
      "Found one!\n",
      "\n"
     ]
    }
   ],
   "source": [
    "# Split check in to Blocks\n",
    "re_list = []\n",
    "\n",
    "bl = 5\n",
    "length = int(len(os.listdir(big_dir)))\n",
    "remainder = length%bl\n",
    "no_of_blocks = int((length - remainder)/bl)\n",
    "\n",
    "slices = [slice(i * bl, (i + 1) * bl) for i in range(no_of_blocks)]\n",
    "if remainder != 0:\n",
    "    remainder_slice = slice(length - remainder, length)\n",
    "    slices.append(remainder_slice)\n",
    "print(f'There are {len(slices)} blocks to search')\n",
    "\n",
    "for sl in tqdm(slices):\n",
    "    re_list.append(get_re_dirs(small_dir, sl))\n",
    "    with open(f\"{re_dir}/re_list.pickle\", \"wb\") as file:\n",
    "        pickle.dump(re_list, file)\n",
    "\n"
   ]
  },
  {
   "cell_type": "code",
   "execution_count": null,
   "metadata": {},
   "outputs": [],
   "source": [
    "with open(f\"{re_dir}/re_list.pickle\", \"wb\") as file:\n",
    "    pickle.dump(re_list, file)"
   ]
  },
  {
   "cell_type": "code",
   "execution_count": 113,
   "metadata": {},
   "outputs": [
    {
     "name": "stdout",
     "output_type": "stream",
     "text": [
      "Transitions/k20_eps0_1/\n"
     ]
    }
   ],
   "source": [
    "re_dir = 'Transitions/k20_eps0_1/'\n",
    "print(re_dir)"
   ]
  },
  {
   "cell_type": "code",
   "execution_count": 114,
   "metadata": {},
   "outputs": [],
   "source": [
    "with open(f\"{re_dir}/re_list.pickle\", \"wb\") as f:\n",
    "    pickle.dump(a, f)"
   ]
  },
  {
   "cell_type": "code",
   "execution_count": 20,
   "metadata": {},
   "outputs": [],
   "source": [
    "def re_dir_search_new(d, thres=(270, 280), bl = 5):\n",
    "    \"\"\"\n",
    "    Searchs a whole array jobs run for rare events.\n",
    "    \n",
    "    d, param, string\n",
    "        name of directory containing array jobs run.\n",
    "    thres, param, tuple\n",
    "        (cold, hot) threshold.\n",
    "    bl, param, int\n",
    "        number of datasets opened at one time.\n",
    "    \n",
    "    rare_events, output, list\n",
    "        List of filenames containing transitions.   \n",
    "    \"\"\"\n",
    "\n",
    "    re_list = []\n",
    "    \n",
    "    # Split check in to Blocks\n",
    "    length = int(len(os.listdir(d)))\n",
    "    print(f'There are {length} blocks to search')\n",
    "    remainder = length%bl\n",
    "    no_of_blocks = int((length - remainder)/bl)\n",
    "\n",
    "    slices = [slice(i * bl, (i + 1) * bl) for i in range(no_of_blocks)]\n",
    "    remainder_slice = slice(length - remainder, length)\n",
    "    slices.append(remainder_slice)\n",
    "    \n",
    "    # For each block, open ds and check if there is a rare event\n",
    "    for s in tqdm(slices):\n",
    "        print('Loading a block')\n",
    "        results = load_run(d, s)\n",
    "        rare_events +=  rare_event_search(results, thres=thres)\n",
    "        close(results)\n",
    "        \n",
    "    print(f'I found {len(rare_events)} transitions')\n",
    "\n",
    "    return rare_events\n"
   ]
  },
  {
   "cell_type": "code",
   "execution_count": 20,
   "metadata": {},
   "outputs": [],
   "source": [
    "def re_dir_search(d, thres=(270, 280), bl = 5):\n",
    "    \"\"\"\n",
    "    Searchs a whole array jobs run for rare events.\n",
    "    \n",
    "    d, param, string\n",
    "        name of directory containing array jobs run.\n",
    "    thres, param, tuple\n",
    "        (cold, hot) threshold.\n",
    "    bl, param, int\n",
    "        number of datasets opened at one time\n",
    "    \n",
    "    rare_events, output, list: list of xarray datasets that have transitions.   \n",
    "    \"\"\"\n",
    "\n",
    "    rare_events = []\n",
    "    \n",
    "    # Split Run in to Blocks of 10\n",
    "    length = int(len(os.listdir(d)))\n",
    "    print(f'There are {length} blocks to search')\n",
    "    remainder = length%bl\n",
    "    no_of_blocks = int((length - remainder)/bl)\n",
    "\n",
    "    slices = [slice(i * bl, (i + 1) * bl) for i in range(no_of_blocks)]\n",
    "    remainder_slice = slice(length - remainder, length)\n",
    "    slices.append(remainder_slice)\n",
    "    \n",
    "    # For each block, open ds and check if there is a rare event\n",
    "    for s in tqdm(slices):\n",
    "        print('Loading a block')\n",
    "        results = load_run(d, s)\n",
    "        rare_events +=  rare_event_search(results, thres=thres)\n",
    "        close(results)\n",
    "        \n",
    "    print(f'I found {len(rare_events)} transitions')\n",
    "\n",
    "    return rare_events\n"
   ]
  },
  {
   "cell_type": "code",
   "execution_count": 22,
   "metadata": {},
   "outputs": [],
   "source": [
    "def rare_event_search(runs, thres=(270, 280)):\n",
    "    \"\"\"\n",
    "    Searchs a list of xarrays for rare event trajectories and stores them in a list.\n",
    "    \n",
    "    runs, param, list: list of data sets we're checking.\n",
    "    thres, param, tuple: (cold, hot) threshold.\n",
    "    rare_events, output, list: list of xarray datasets that have transitions.   \n",
    "    \"\"\"\n",
    "    rare_events = []\n",
    "    print('Checking for transition trajectories')\n",
    "    for ds in tqdm(runs):\n",
    "        cold = ds.T.values<thres[0]\n",
    "        hot = ds.T.values>thres[1]\n",
    "        transition = np.any(cold) & np.any(hot)\n",
    "        if transition:\n",
    "            print('Found one!')\n",
    "            rare_events.append(ds)\n",
    "    return rare_events"
   ]
  },
  {
   "cell_type": "code",
   "execution_count": 11,
   "metadata": {},
   "outputs": [
    {
     "data": {
      "application/vnd.jupyter.widget-view+json": {
       "model_id": "303f4e281f0d437aa030ef93cb0d2684",
       "version_major": 2,
       "version_minor": 0
      },
      "text/plain": [
       "HBox(children=(FloatProgress(value=0.0, max=38.0), HTML(value='')))"
      ]
     },
     "metadata": {},
     "output_type": "display_data"
    },
    {
     "name": "stdout",
     "output_type": "stream",
     "text": [
      "Found one!\n",
      "\n"
     ]
    }
   ],
   "source": [
    "# Example Use\n",
    "\n",
    "res = rare_event_search(results, thres=(270, 270))"
   ]
  },
  {
   "cell_type": "code",
   "execution_count": 21,
   "metadata": {},
   "outputs": [
    {
     "name": "stdout",
     "output_type": "stream",
     "text": [
      "There are 100 blocks to search\n"
     ]
    },
    {
     "data": {
      "application/vnd.jupyter.widget-view+json": {
       "model_id": "ced1a28c25e74078b07efb9906834beb",
       "version_major": 2,
       "version_minor": 0
      },
      "text/plain": [
       "HBox(children=(FloatProgress(value=0.0, max=21.0), HTML(value='')))"
      ]
     },
     "metadata": {},
     "output_type": "display_data"
    },
    {
     "name": "stdout",
     "output_type": "stream",
     "text": [
      "Loading a block\n"
     ]
    },
    {
     "data": {
      "application/vnd.jupyter.widget-view+json": {
       "model_id": "9cc4117540e5477ba3cb790f1956c303",
       "version_major": 2,
       "version_minor": 0
      },
      "text/plain": [
       "HBox(children=(FloatProgress(value=0.0, max=5.0), HTML(value='')))"
      ]
     },
     "metadata": {},
     "output_type": "display_data"
    },
    {
     "name": "stdout",
     "output_type": "stream",
     "text": [
      "\n"
     ]
    },
    {
     "ename": "NameError",
     "evalue": "name 'rare_event_search' is not defined",
     "output_type": "error",
     "traceback": [
      "\u001b[0;31m---------------------------------------------------------------------------\u001b[0m",
      "\u001b[0;31mNameError\u001b[0m                                 Traceback (most recent call last)",
      "\u001b[0;32m<ipython-input-21-8d4ccb488bc6>\u001b[0m in \u001b[0;36m<module>\u001b[0;34m\u001b[0m\n\u001b[1;32m      1\u001b[0m \u001b[0;31m# Example Use\u001b[0m\u001b[0;34m\u001b[0m\u001b[0;34m\u001b[0m\u001b[0;34m\u001b[0m\u001b[0m\n\u001b[0;32m----> 2\u001b[0;31m \u001b[0mre_dir_search\u001b[0m\u001b[0;34m(\u001b[0m\u001b[0msmall_dir\u001b[0m\u001b[0;34m)\u001b[0m\u001b[0;34m\u001b[0m\u001b[0;34m\u001b[0m\u001b[0m\n\u001b[0m",
      "\u001b[0;32m<ipython-input-20-8eedf7401e1f>\u001b[0m in \u001b[0;36mre_dir_search\u001b[0;34m(d, thres, bl)\u001b[0m\n\u001b[1;32m     29\u001b[0m         \u001b[0mprint\u001b[0m\u001b[0;34m(\u001b[0m\u001b[0;34m'Loading a block'\u001b[0m\u001b[0;34m)\u001b[0m\u001b[0;34m\u001b[0m\u001b[0;34m\u001b[0m\u001b[0m\n\u001b[1;32m     30\u001b[0m         \u001b[0mresults\u001b[0m \u001b[0;34m=\u001b[0m \u001b[0mload_run\u001b[0m\u001b[0;34m(\u001b[0m\u001b[0md\u001b[0m\u001b[0;34m,\u001b[0m \u001b[0ms\u001b[0m\u001b[0;34m)\u001b[0m\u001b[0;34m\u001b[0m\u001b[0;34m\u001b[0m\u001b[0m\n\u001b[0;32m---> 31\u001b[0;31m         \u001b[0mrare_events\u001b[0m \u001b[0;34m+=\u001b[0m  \u001b[0mrare_event_search\u001b[0m\u001b[0;34m(\u001b[0m\u001b[0mresults\u001b[0m\u001b[0;34m,\u001b[0m \u001b[0mthres\u001b[0m\u001b[0;34m=\u001b[0m\u001b[0mthres\u001b[0m\u001b[0;34m)\u001b[0m\u001b[0;34m\u001b[0m\u001b[0;34m\u001b[0m\u001b[0m\n\u001b[0m\u001b[1;32m     32\u001b[0m         \u001b[0mclose\u001b[0m\u001b[0;34m(\u001b[0m\u001b[0mresults\u001b[0m\u001b[0;34m)\u001b[0m\u001b[0;34m\u001b[0m\u001b[0;34m\u001b[0m\u001b[0m\n\u001b[1;32m     33\u001b[0m \u001b[0;34m\u001b[0m\u001b[0m\n",
      "\u001b[0;31mNameError\u001b[0m: name 'rare_event_search' is not defined"
     ]
    }
   ],
   "source": [
    "# Example Use\n",
    "re_dir_search(small_dir)"
   ]
  },
  {
   "cell_type": "markdown",
   "metadata": {},
   "source": [
    "### Functions for Evaluation the Data"
   ]
  },
  {
   "cell_type": "code",
   "execution_count": 23,
   "metadata": {},
   "outputs": [],
   "source": [
    "def timeseries_plot(t, x, x_name='', save=None):\n",
    "    \"Plots x timeseries\"\n",
    "    fig, ax = plt.subplots(figsize=(7, 7))\n",
    "    ax.grid()\n",
    "    ax.set_xlabel('Time')\n",
    "    ax.set_ylabel(x_name)\n",
    "    title = 'Timeseries of' + ' ' + x_name\n",
    "    ax.set_title(title)\n",
    "    ax.plot(t, x)\n",
    "    \n",
    "    if (save is None):\n",
    "        fig.show()\n",
    "        return fig, ax # Return in case you want to edit plot options\n",
    "    else:\n",
    "        fig.savefig(save)\n",
    "    return"
   ]
  },
  {
   "cell_type": "code",
   "execution_count": 39,
   "metadata": {},
   "outputs": [],
   "source": [
    "def summary_stats(d, densities=False):\n",
    "    \"Takes dataset, prints/plots summary stats.\"\n",
    "    # Remove Transient\n",
    "    transient=1000\n",
    "    ds = d.isel(time=slice(transient,-1))\n",
    "    \n",
    "    # T Stats\n",
    "    T_mean = ds.T.mean().values\n",
    "    T_var = ds.T.var().values\n",
    "    print(f'T mean is {T_mean:.2f}\\n')\n",
    "    print(f'T variance is {T_var:.2f}')\n",
    "    \n",
    "    if densities:\n",
    "        density_plot(ds.T.values, 'Temperature PDF', 'T')\n",
    "\n",
    "    # X Stats Displayed as a plot\n",
    "    fig, axes = plt.subplots(1, 2, figsize=(15, 7))\n",
    "    for ax in axes:\n",
    "        ax.grid()\n",
    "        ax.set_xlabel('Spatial Coordinate')\n",
    "    axes[0].scatter(ds.X.space, ds.X.mean(dim='time'))\n",
    "    axes[0].set_ylabel('Time Mean')\n",
    "    axes[0].set_title('X Means')\n",
    "    axes[1].scatter(ds.X.space, ds.X.var(dim='time'))\n",
    "    axes[1].set_ylabel('Time Variance')\n",
    "    axes[1].set_title('X Variances')\n",
    "    fig.show()\n",
    "    \n",
    "    if densities:\n",
    "        density_plot(ds.X.values.flatten(), 'X PDF - All Spatial Points', 'X') "
   ]
  },
  {
   "cell_type": "code",
   "execution_count": 42,
   "metadata": {},
   "outputs": [],
   "source": [
    "def density_plot(samples, title, xlabel='', save=None):\n",
    "    \"Given data samples uses KDE to plot PDF.\"\n",
    "    fig, ax = plt.subplots(figsize=(7, 7))\n",
    "    x_d = np.linspace(samples.min(), samples.max(), int(len(samples)/100)) # Grid we evaluate PDF on\n",
    "    kde = gaussian_kde(samples) # KDE. Using Gaussian ker\n",
    "    pdf = kde.evaluate(x_d)\n",
    "    ax.plot(x_d, pdf)\n",
    "    ax.set_ylabel('$\\\\rho$')\n",
    "    ax.set_xlabel(xlabel)\n",
    "#     ax.plot(samples, np.full_like(samples, -0.01), 'k*', label='samples')\n",
    "#     ax.legend()\n",
    "    ax.grid()\n",
    "    ax.set_title(title)\n",
    "    if (save!=None):\n",
    "        print(f'Saving plot at {save}')\n",
    "        fig.savefig(save, dpi=1200)\n",
    "    fig.show()"
   ]
  },
  {
   "cell_type": "code",
   "execution_count": 43,
   "metadata": {},
   "outputs": [
    {
     "name": "stdout",
     "output_type": "stream",
     "text": [
      "T mean is 257.38\n",
      "\n",
      "T variance is 5.80\n"
     ]
    },
    {
     "data": {
      "image/png": "[encoded data removed]",
      "text/plain": [
       "<Figure size 504x504 with 1 Axes>"
      ]
     },
     "metadata": {
      "needs_background": "light"
     },
     "output_type": "display_data"
    },
    {
     "data": {
      "image/png": "[encoded data removed]",
      "text/plain": [
       "<Figure size 1080x504 with 2 Axes>"
      ]
     },
     "metadata": {
      "needs_background": "light"
     },
     "output_type": "display_data"
    },
    {
     "data": {
      "image/png": "[encoded data removed]",
      "text/plain": [
       "<Figure size 504x504 with 1 Axes>"
      ]
     },
     "metadata": {
      "needs_background": "light"
     },
     "output_type": "display_data"
    }
   ],
   "source": [
    "summary_stats(results[1], densities=True)"
   ]
  },
  {
   "cell_type": "code",
   "execution_count": 61,
   "metadata": {},
   "outputs": [],
   "source": [
    "def energy_time_plot(d, thres=(275, 280)):\n",
    "    \"\"\"\n",
    "    3D plot of energy, time and temperature. \n",
    "    Colors attractors according to temperatures in thres.\n",
    "    \n",
    "    ds, param, xr.dataset: the data we're plotting.\n",
    "    thres, param, tuple: (cold, hot). \n",
    "        x< cold is blue.\n",
    "        cold<x<hot is green.\n",
    "        x> hot is red.\n",
    "    \"\"\"\n",
    "        \n",
    "    # Remove Transient & thin out\n",
    "    transient=1000\n",
    "    ds = d.isel(time=slice(transient,-1))\n",
    "                \n",
    "    energy_ts = 0.5 * (ds.X**2).mean(dim='space').values\n",
    "    \n",
    "    cold = ds.T.values < thres[0]\n",
    "    hot = ds.T.values > thres[1]\n",
    "    transition = (ds.T.values>thres[0]) * (ds.T.values<thres[1])\n",
    "\n",
    "    fig = plt.figure(figsize=(7, 7))\n",
    "    ax = fig.add_subplot(111, projection='3d')\n",
    "    \n",
    "    ax.plot(ds.time.values[cold], energy_ts[cold], ds.T.values[cold], 'b')\n",
    "    ax.plot(ds.time.values[transition], energy_ts[transition], ds.T.values[transition], 'g')\n",
    "    ax.plot(ds.time.values[hot], energy_ts[hot], ds.T.values[hot], 'r')\n",
    "    \n",
    "    ax.set_xlabel('Time')\n",
    "    ax.set_ylabel('$\\\\mathcal{E}$')\n",
    "    ax.set_zlabel('$T$')\n",
    "    fig.show()\n",
    "    \n",
    "    return fig, ax"
   ]
  },
  {
   "cell_type": "code",
   "execution_count": 60,
   "metadata": {},
   "outputs": [],
   "source": [
    "def energy_mean_plot(d, thres=(275, 280)):\n",
    "    \"\"\"\n",
    "    Attractor Projection Plot.\n",
    "    3D plot of energy, mean and temperature. \n",
    "    Colors attractors according to temperatures in thres.\n",
    "    \n",
    "    d, param, xr.dataset: the data we're plotting.\n",
    "    thres, param, tuple: (cold, hot). \n",
    "        x< cold is blue.\n",
    "        cold<x<hot is green.\n",
    "        x> hot is red.\n",
    "    \"\"\"\n",
    "    # Remove Transient & thin out\n",
    "    transient=1000\n",
    "    ds = d.isel(time=slice(transient,-1))\n",
    "\n",
    "    energy_ts = 0.5 * (ds.X**2).mean(dim='space').values\n",
    "    mean_ts = ds.X.mean(dim='space').values\n",
    "\n",
    "    fig = plt.figure(figsize=(7, 7))\n",
    "    ax = fig.add_subplot(111, projection='3d')\n",
    "    \n",
    "    cold = ds.T.values < thres[0]\n",
    "    hot = ds.T.values > thres[1]\n",
    "    transition = (ds.T.values>thres[0]) * (ds.T.values<thres[1])\n",
    "    \n",
    "    ax.plot(mean_ts[cold], energy_ts[cold], ds.T.values[cold], 'b')\n",
    "    ax.plot(mean_ts[transition], energy_ts[transition], ds.T.values[transition], 'g')\n",
    "    ax.plot(mean_ts[hot], energy_ts[hot], ds.T.values[hot], 'r')\n",
    "\n",
    "    ax.set_xlabel('$\\\\mathcal{M}$')\n",
    "    ax.set_ylabel('$\\\\mathcal{E}$')\n",
    "    ax.set_zlabel('$T$')\n",
    "    fig.show()\n",
    "    \n",
    "    return fig, ax"
   ]
  },
  {
   "cell_type": "code",
   "execution_count": 45,
   "metadata": {},
   "outputs": [],
   "source": []
  },
  {
   "cell_type": "code",
   "execution_count": 65,
   "metadata": {},
   "outputs": [
    {
     "data": {
      "image/png": "[encoded data removed]",
      "text/plain": [
       "<Figure size 504x504 with 1 Axes>"
      ]
     },
     "metadata": {
      "needs_background": "light"
     },
     "output_type": "display_data"
    }
   ],
   "source": [
    "energy_time_plot(results[2])"
   ]
  },
  {
   "cell_type": "code",
   "execution_count": 249,
   "metadata": {},
   "outputs": [],
   "source": [
    "dire = '/rds/general/user/cfn18/home/Instantons/L96-EBM-Instanton/Brute-Force/TEST/SRI2/T_256_963935'\n",
    "dire2 = '/rds/general/user/cfn18/home/Instantons//L96-EBM-Instanton/Brute-Force/TEST/SRI2/T_294_440564'\n",
    "ds = xr.open_mfdataset(dire + '/*.nc', parallel=True, combine='by_coords', concat_dim='time')\n",
    "ds2 = xr.open_mfdataset(dire2 + '/*.nc', parallel=True, combine='by_coords', concat_dim='time')"
   ]
  },
  {
   "cell_type": "code",
   "execution_count": 251,
   "metadata": {},
   "outputs": [
    {
     "data": {
      "text/plain": [
       "[<matplotlib.lines.Line2D at 0x14d036ac2bd0>]"
      ]
     },
     "execution_count": 251,
     "metadata": {},
     "output_type": "execute_result"
    },
    {
     "data": {
      "image/png": "[encoded data removed]",
      "text/plain": [
       "<Figure size 432x288 with 1 Axes>"
      ]
     },
     "metadata": {
      "needs_background": "light"
     },
     "output_type": "display_data"
    }
   ],
   "source": [
    "plt.plot(ds.time, ds.T)\n",
    "plt.plot(ds2.time, ds2.T)"
   ]
  },
  {
   "cell_type": "code",
   "execution_count": 254,
   "metadata": {},
   "outputs": [
    {
     "data": {
      "text/plain": [
       "10010"
      ]
     },
     "execution_count": 254,
     "metadata": {},
     "output_type": "execute_result"
    }
   ],
   "source": [
    "len(ds.time)"
   ]
  },
  {
   "cell_type": "code",
   "execution_count": null,
   "metadata": {},
   "outputs": [],
   "source": []
  }
 ],
 "metadata": {
  "kernelspec": {
   "display_name": "Python3 (personal)",
   "language": "python",
   "name": "python3_personal"
  },
  "language_info": {
   "codemirror_mode": {
    "name": "ipython",
    "version": 3
   },
   "file_extension": ".py",
   "mimetype": "text/x-python",
   "name": "python",
   "nbconvert_exporter": "python",
   "pygments_lexer": "ipython3",
   "version": "3.7.7"
  }
 },
 "nbformat": 4,
 "nbformat_minor": 2
}
