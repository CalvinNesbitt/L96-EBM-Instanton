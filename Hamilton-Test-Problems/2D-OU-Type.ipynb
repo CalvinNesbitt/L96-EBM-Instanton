{
 "cells": [
  {
   "cell_type": "markdown",
   "metadata": {},
   "source": [
    "# 2D OU Model - Hamiltonian Instanton Calculation\n",
    "\n",
    "In this notebook we calculate the instanton for a 2D OU type model using the Hamiltonian formulation of the instanton equations outline in ction III.A of [1].\n",
    "\n",
    "[1] https://doi.org/10.1063/1.5084025"
   ]
  },
  {
   "cell_type": "code",
   "execution_count": 1,
   "metadata": {},
   "outputs": [],
   "source": [
    "# Standard Package imports\n",
    "\n",
    "import numpy as np\n",
    "import numpy.linalg as la\n",
    "import numpy.random as rm\n",
    "import matplotlib.pyplot as plt\n",
    "import scipy.integrate\n",
    "\n",
    "from ham import *\n",
    "from tqdm.notebook import tqdm"
   ]
  },
  {
   "cell_type": "markdown",
   "metadata": {},
   "source": [
    "## Hamiltonian Instanton Equation Defintion\n",
    "\n",
    "We define everything needed for the Hamiltonian algorithm used to calculate the instanton."
   ]
  },
  {
   "cell_type": "code",
   "execution_count": 2,
   "metadata": {},
   "outputs": [],
   "source": [
    "# Defining the RHS of Hamilton's Equations\n",
    "\n",
    "def theta_rhs(t, state, s):\n",
    "    \"\"\" Provides rhs of theta ODE. Will be passed to scipy integrator.\n",
    "    - State should be of the form (time, ndim) where ndim is the number of theta variables.\n",
    "    - If you want touse phi variables, put them in the s parameters NOT as state variables\n",
    "    \"\"\"\n",
    "    \n",
    "    # Unpacking state and parameters\n",
    "    theta1, theta2 = state\n",
    "    p, phi = s\n",
    "    gamma1, gamma2, sigma = p\n",
    "    \n",
    "    # RHS\n",
    "    d_theta1_dt = gamma1 * theta1 - gamma2 * theta2\n",
    "    d_theta2_dt = gamma1 * theta1 + gamma2 * theta2\n",
    "    return np.array([d_theta1_dt, d_theta2_dt])\n",
    "    \n",
    "    \n",
    "def phi_rhs(t, state, s):\n",
    "    \"\"\" Provides rhs of phi ODE. Will be passed to scipy integrator.\n",
    "     - State should be of the form (time, ndim) where ndim is the number of phi variables.\n",
    "     - If you want to use theta variables, put them in the s parameters NOT as state variables\n",
    "    \"\"\"\n",
    "        \n",
    "    # Unpacking state and parameters\n",
    "    x, T = state\n",
    "    p, theta = s\n",
    "    theta1 = theta[0]\n",
    "    gamma1, gamma2, sigma = p\n",
    "    \n",
    "    # RHS\n",
    "    dx_dt = -gamma1 * (x + T) + sigma**2 * theta1\n",
    "    dT_dt = -gamma2 * (T - x)\n",
    "    return np.array([dx_dt, dT_dt])"
   ]
  },
  {
   "cell_type": "markdown",
   "metadata": {},
   "source": [
    "## Solving Hamilton Equations"
   ]
  },
  {
   "cell_type": "code",
   "execution_count": 20,
   "metadata": {},
   "outputs": [],
   "source": [
    "##---------------------------------------------\n",
    "## Set Up\n",
    "##---------------------------------------------\n",
    "\n",
    "# Model Parameters\n",
    "gamma1 = 0.6\n",
    "gamma2 = 0.2\n",
    "sigma = 0.1\n",
    "p = [gamma1, gamma2, sigma] \n",
    "\n",
    "# Time\n",
    "steps = 100\n",
    "dt = 0.1\n",
    "T = steps * dt\n",
    "time = np.arange(0, T + dt, dt)\n",
    "\n",
    "# Initial Conditions\n",
    "IC = np.linspace((2, 2, 0.4, 0.2), (3, 4, 5, 5), steps + 1)\n",
    "\n",
    "# Boundary Conditions \n",
    "phi0 = [0.1, 0.2]\n",
    "IC[0, :2] = phi0\n",
    "lamb = -1\n",
    "\n",
    "# Observable\n",
    "def F(x): \n",
    "    return 0.5*x[0]**2"
   ]
  },
  {
   "cell_type": "code",
   "execution_count": 21,
   "metadata": {},
   "outputs": [],
   "source": [
    "# Algorithm Object Creation\n",
    "\n",
    "rhs = [phi_rhs, theta_rhs]\n",
    "ham_alg = Hamilton_solver(rhs, time, IC, p, update=[F, lamb])"
   ]
  },
  {
   "cell_type": "code",
   "execution_count": 22,
   "metadata": {},
   "outputs": [
    {
     "data": {
      "application/vnd.jupyter.widget-view+json": {
       "model_id": "ba8bd6c0029b4ed5907fd831833f3583",
       "version_major": 2,
       "version_minor": 0
      },
      "text/plain": [
       "HBox(children=(FloatProgress(value=0.0, max=10.0), HTML(value='')))"
      ]
     },
     "metadata": {},
     "output_type": "display_data"
    },
    {
     "name": "stdout",
     "output_type": "stream",
     "text": [
      "\n"
     ]
    }
   ],
   "source": [
    "ham_alg.run(10)"
   ]
  },
  {
   "cell_type": "code",
   "execution_count": 23,
   "metadata": {},
   "outputs": [],
   "source": [
    "numeric_solution = ham_alg.instanton"
   ]
  },
  {
   "cell_type": "markdown",
   "metadata": {},
   "source": [
    "## Comparison With Analytic Solution\n",
    "\n",
    "General solution is $exp(At) c$, where $c$ is determined by boundary conditions"
   ]
  },
  {
   "cell_type": "code",
   "execution_count": 24,
   "metadata": {},
   "outputs": [],
   "source": [
    "numerical_gradient = scipy.optimize.approx_fprime(ham_alg.phi_ts[-1], F, 0.01)"
   ]
  },
  {
   "cell_type": "code",
   "execution_count": 25,
   "metadata": {},
   "outputs": [],
   "source": [
    "def expA(t, p=p):\n",
    "    gamma1, gamma2, sigma = p\n",
    "    A = np.zeros((4, 4))\n",
    "    A[0, :2] = -gamma1\n",
    "    A[0, 2] = sigma**2 \n",
    "    A[1, 0] = gamma2\n",
    "    A[1, 1] = -gamma2\n",
    "    A[2:, 2] = gamma1\n",
    "    A[2:, 3] = - gamma2\n",
    "    A[-1, -1] = gamma2\n",
    "    return scipy.linalg.expm(A * t) "
   ]
  },
  {
   "cell_type": "code",
   "execution_count": 26,
   "metadata": {},
   "outputs": [
    {
     "name": "stdout",
     "output_type": "stream",
     "text": [
      "c = [ 1.00000000e-01  2.00000000e-01 -1.00199321e-05 -5.60058087e-06]\n"
     ]
    }
   ],
   "source": [
    "# Solving Linear System arising from Boundary Conditions\n",
    "# a * c = b\n",
    "\n",
    "a = np.vstack((expA(0)[:2], expA(T)[-2:]))\n",
    "b = np.hstack([phi0, -lamb * numerical_gradient]) # BCs\n",
    "c = la.solve(a, b)\n",
    "print(f'c = {c}')"
   ]
  },
  {
   "cell_type": "code",
   "execution_count": 27,
   "metadata": {},
   "outputs": [],
   "source": [
    "analytic_solution = np.vstack([np.matmul(expA(t), c) for t in time])"
   ]
  },
  {
   "cell_type": "code",
   "execution_count": 28,
   "metadata": {},
   "outputs": [
    {
     "data": {
      "image/png": "[encoded data removed]",
      "text/plain": [
       "<Figure size 1080x576 with 2 Axes>"
      ]
     },
     "metadata": {
      "needs_background": "light"
     },
     "output_type": "display_data"
    }
   ],
   "source": [
    "# Comparison Plot\n",
    "\n",
    "fig, axes = plt.subplots(1, 2, figsize=(15, 8))\n",
    "labels = ['$\\\\phi$', '$\\\\theta$']\n",
    "\n",
    "# Phi Plot\n",
    "axes[0].grid()\n",
    "axes[0].set_title('$\\\\phi$ Comparison')\n",
    "axes[0].plot(time, analytic_solution[:, 0], 'b', linewidth=2, label = 'Analytic')\n",
    "axes[0].plot(time, analytic_solution[:, 1],'b', linewidth=2)\n",
    "axes[0].plot(time, ham_alg.instanton[:, 0], 'r.', label = 'Numeric')\n",
    "axes[0].plot(time, ham_alg.instanton[:, 1], 'r.')\n",
    "axes[0].set_xlabel('Time')\n",
    "axes[0].set_ylabel('$\\\\phi$')\n",
    "axes[0].legend()\n",
    "\n",
    "# Theta Plot\n",
    "axes[1].grid()\n",
    "axes[1].set_title('$\\\\theta$ Comparison')\n",
    "axes[1].plot(time, analytic_solution[:, 2], 'b', linewidth=2, label = 'Analytic')\n",
    "axes[1].plot(time, analytic_solution[:, 3],'b', linewidth=2)\n",
    "axes[1].plot(time, ham_alg.instanton[:, 2], 'r.', label = 'Numeric')\n",
    "axes[1].plot(time, ham_alg.instanton[:, 3], 'r.')\n",
    "axes[1].set_xlabel('Time')\n",
    "axes[1].set_ylabel('$\\\\theta$')\n",
    "axes[1].legend()\n",
    "\n",
    "\n",
    "fig.show()"
   ]
  },
  {
   "cell_type": "markdown",
   "metadata": {},
   "source": [
    "## Checking Action has Been Minimised"
   ]
  },
  {
   "cell_type": "code",
   "execution_count": 12,
   "metadata": {},
   "outputs": [],
   "source": [
    "# Defining utilitties for checking action being tracked.\n",
    "\n",
    "def ou_a(t, x, p):\n",
    "    \"OU Drift\"\n",
    "    gamma, sigma = p\n",
    "    return - gamma * x\n",
    "\n",
    "class action_minimisation_checker:\n",
    "    \"\"\"Class for keeping track of instanton action comparisons.\"\"\"\n",
    "    \n",
    "    def __init__(self, a, instanton, args):\n",
    "        \"\"\" \n",
    "        param, a: Deterministic part of SDE, feeds in to action integral.\n",
    "        param, instanton: the path we're comparing against\n",
    "        param, args: arguments for a.\n",
    "        \"\"\"\n",
    "        self.a = a\n",
    "        self.p, self.dt = args\n",
    "        \n",
    "        # Instanton we will we check against\n",
    "        self.instanton = instanton \n",
    "        self.action_value = self._action(instanton)\n",
    "        \n",
    "        self._compare_list = [(self.instanton, self.action_value)]\n",
    "        self._smaller_list = []\n",
    "        \n",
    "    def _action(self, phi):\n",
    "        \"\"\"\n",
    "        param, phi: is path we calculate action over    \n",
    "        returns F-W action approximation where finite differences \n",
    "        are used to approximate the derivatives and integral.\n",
    "        \"\"\"\n",
    "        v = np.gradient(phi, self.dt) -  self.a(0, phi, self.p)\n",
    "        integrand =  v**2\n",
    "        return 0.5 * np.trapz(integrand, dx=dt)\n",
    "    \n",
    "    def compare(self, path):\n",
    "        \"\"\" Compare a provided path vs. the instanton.\n",
    "        \"\"\"\n",
    "        x = self._action(path)\n",
    "        self._add_comparison((path, x))\n",
    "    \n",
    "    @property\n",
    "    def compared_paths(self):\n",
    "        \"Returns a list of tuples of compared paths and their action value\"\n",
    "        return self._compare_list\n",
    "    \n",
    "    def _add_comparison(self, path_tuple):\n",
    "        self._compare_list.append(path_tuple)\n",
    "        \n",
    "    def any_smaller(self):\n",
    "        \"Checks if any compared path has a smaller action.\"\n",
    "        for path_tuple in self.compared_paths:\n",
    "            if (path_tuple[1] < self.action_value):\n",
    "                print(\"Looks like a nearby path has a smaller action\")\n",
    "                self.add_smaller_path(path_tuple)\n",
    "                print(\"I've made a note of this\")\n",
    "                return \n",
    "        print(\"Looks like it minimises\")\n",
    "        return\n",
    "    @property\n",
    "    def smaller_list(self):\n",
    "        return self._smaller_list\n",
    "    \n",
    "    def add_smaller_path(self, x):\n",
    "        self._smaller_list.append(x)\n",
    "    \n",
    "    def differences(self):\n",
    "        \"Prints differences in action for compared paths\"\n",
    "        for path_tuple in self.compared_paths:\n",
    "            print(path_tuple[1] - self.action_value)\n",
    "\n",
    "def eps_path(path, x):\n",
    "    \"Function that perturbs all non boundary points by x.\"\n",
    "    ep = np.copy(path)\n",
    "    ep[1:-1] += x\n",
    "    return ep"
   ]
  },
  {
   "cell_type": "markdown",
   "metadata": {},
   "source": [
    "### Comparing To Different Paths\n",
    "\n",
    "We found in general it does minimise the aciton although there are some exceptions where it just about does not, see comments below."
   ]
  },
  {
   "cell_type": "code",
   "execution_count": 13,
   "metadata": {},
   "outputs": [],
   "source": [
    "instanton = ham_alg.phi_ts.flatten() #Why did you flatten this?"
   ]
  },
  {
   "cell_type": "code",
   "execution_count": 17,
   "metadata": {},
   "outputs": [],
   "source": [
    "comparison_paths = [eps_path(instanton, - (10**-x)) for x in range(8)] # Contains some smaller action paths\n",
    "# comparison_paths = [eps_path(instanton, (10**-x)) for x in range(10)] # Instanton smaller than all here\n",
    "# comparison_paths = [eps_path(instanton, 0.1 * x) for x in range(10)] # Instanton smaller than all here\n",
    "# comparison_paths = [eps_path(instanton, 0.2 * x) for x in range(10)] # Instanton smaller than all here\n",
    "# comparison_paths = [eps_path(instanton, -0.2 * x) for x in range(10)] # Instanton smaller than all here"
   ]
  },
  {
   "cell_type": "code",
   "execution_count": 18,
   "metadata": {},
   "outputs": [
    {
     "ename": "ValueError",
     "evalue": "too many values to unpack (expected 2)",
     "output_type": "error",
     "traceback": [
      "\u001b[0;31m---------------------------------------------------------------------------\u001b[0m",
      "\u001b[0;31mValueError\u001b[0m                                Traceback (most recent call last)",
      "\u001b[0;32m<ipython-input-18-492be362a7c5>\u001b[0m in \u001b[0;36m<module>\u001b[0;34m\u001b[0m\n\u001b[0;32m----> 1\u001b[0;31m \u001b[0maction_track\u001b[0m \u001b[0;34m=\u001b[0m \u001b[0maction_minimisation_checker\u001b[0m\u001b[0;34m(\u001b[0m\u001b[0mou_a\u001b[0m\u001b[0;34m,\u001b[0m \u001b[0minstanton\u001b[0m\u001b[0;34m,\u001b[0m \u001b[0;34m[\u001b[0m\u001b[0mp\u001b[0m\u001b[0;34m,\u001b[0m \u001b[0mdt\u001b[0m\u001b[0;34m]\u001b[0m\u001b[0;34m)\u001b[0m\u001b[0;34m\u001b[0m\u001b[0;34m\u001b[0m\u001b[0m\n\u001b[0m",
      "\u001b[0;32m<ipython-input-12-8a3375b8753f>\u001b[0m in \u001b[0;36m__init__\u001b[0;34m(self, a, instanton, args)\u001b[0m\n\u001b[1;32m     20\u001b[0m         \u001b[0;31m# Instanton we will we check against\u001b[0m\u001b[0;34m\u001b[0m\u001b[0;34m\u001b[0m\u001b[0;34m\u001b[0m\u001b[0m\n\u001b[1;32m     21\u001b[0m         \u001b[0mself\u001b[0m\u001b[0;34m.\u001b[0m\u001b[0minstanton\u001b[0m \u001b[0;34m=\u001b[0m \u001b[0minstanton\u001b[0m\u001b[0;34m\u001b[0m\u001b[0;34m\u001b[0m\u001b[0m\n\u001b[0;32m---> 22\u001b[0;31m         \u001b[0mself\u001b[0m\u001b[0;34m.\u001b[0m\u001b[0maction_value\u001b[0m \u001b[0;34m=\u001b[0m \u001b[0mself\u001b[0m\u001b[0;34m.\u001b[0m\u001b[0m_action\u001b[0m\u001b[0;34m(\u001b[0m\u001b[0minstanton\u001b[0m\u001b[0;34m)\u001b[0m\u001b[0;34m\u001b[0m\u001b[0;34m\u001b[0m\u001b[0m\n\u001b[0m\u001b[1;32m     23\u001b[0m \u001b[0;34m\u001b[0m\u001b[0m\n\u001b[1;32m     24\u001b[0m         \u001b[0mself\u001b[0m\u001b[0;34m.\u001b[0m\u001b[0m_compare_list\u001b[0m \u001b[0;34m=\u001b[0m \u001b[0;34m[\u001b[0m\u001b[0;34m(\u001b[0m\u001b[0mself\u001b[0m\u001b[0;34m.\u001b[0m\u001b[0minstanton\u001b[0m\u001b[0;34m,\u001b[0m \u001b[0mself\u001b[0m\u001b[0;34m.\u001b[0m\u001b[0maction_value\u001b[0m\u001b[0;34m)\u001b[0m\u001b[0;34m]\u001b[0m\u001b[0;34m\u001b[0m\u001b[0;34m\u001b[0m\u001b[0m\n",
      "\u001b[0;32m<ipython-input-12-8a3375b8753f>\u001b[0m in \u001b[0;36m_action\u001b[0;34m(self, phi)\u001b[0m\n\u001b[1;32m     31\u001b[0m         \u001b[0mare\u001b[0m \u001b[0mused\u001b[0m \u001b[0mto\u001b[0m \u001b[0mapproximate\u001b[0m \u001b[0mthe\u001b[0m \u001b[0mderivatives\u001b[0m \u001b[0;32mand\u001b[0m \u001b[0mintegral\u001b[0m\u001b[0;34m.\u001b[0m\u001b[0;34m\u001b[0m\u001b[0;34m\u001b[0m\u001b[0m\n\u001b[1;32m     32\u001b[0m         \"\"\"\n\u001b[0;32m---> 33\u001b[0;31m         \u001b[0mv\u001b[0m \u001b[0;34m=\u001b[0m \u001b[0mnp\u001b[0m\u001b[0;34m.\u001b[0m\u001b[0mgradient\u001b[0m\u001b[0;34m(\u001b[0m\u001b[0mphi\u001b[0m\u001b[0;34m,\u001b[0m \u001b[0mself\u001b[0m\u001b[0;34m.\u001b[0m\u001b[0mdt\u001b[0m\u001b[0;34m)\u001b[0m \u001b[0;34m-\u001b[0m  \u001b[0mself\u001b[0m\u001b[0;34m.\u001b[0m\u001b[0ma\u001b[0m\u001b[0;34m(\u001b[0m\u001b[0;36m0\u001b[0m\u001b[0;34m,\u001b[0m \u001b[0mphi\u001b[0m\u001b[0;34m,\u001b[0m \u001b[0mself\u001b[0m\u001b[0;34m.\u001b[0m\u001b[0mp\u001b[0m\u001b[0;34m)\u001b[0m\u001b[0;34m\u001b[0m\u001b[0;34m\u001b[0m\u001b[0m\n\u001b[0m\u001b[1;32m     34\u001b[0m         \u001b[0mintegrand\u001b[0m \u001b[0;34m=\u001b[0m  \u001b[0mv\u001b[0m\u001b[0;34m**\u001b[0m\u001b[0;36m2\u001b[0m\u001b[0;34m\u001b[0m\u001b[0;34m\u001b[0m\u001b[0m\n\u001b[1;32m     35\u001b[0m         \u001b[0;32mreturn\u001b[0m \u001b[0;36m0.5\u001b[0m \u001b[0;34m*\u001b[0m \u001b[0mnp\u001b[0m\u001b[0;34m.\u001b[0m\u001b[0mtrapz\u001b[0m\u001b[0;34m(\u001b[0m\u001b[0mintegrand\u001b[0m\u001b[0;34m,\u001b[0m \u001b[0mdx\u001b[0m\u001b[0;34m=\u001b[0m\u001b[0mdt\u001b[0m\u001b[0;34m)\u001b[0m\u001b[0;34m\u001b[0m\u001b[0;34m\u001b[0m\u001b[0m\n",
      "\u001b[0;32m<ipython-input-12-8a3375b8753f>\u001b[0m in \u001b[0;36mou_a\u001b[0;34m(t, x, p)\u001b[0m\n\u001b[1;32m      3\u001b[0m \u001b[0;32mdef\u001b[0m \u001b[0mou_a\u001b[0m\u001b[0;34m(\u001b[0m\u001b[0mt\u001b[0m\u001b[0;34m,\u001b[0m \u001b[0mx\u001b[0m\u001b[0;34m,\u001b[0m \u001b[0mp\u001b[0m\u001b[0;34m)\u001b[0m\u001b[0;34m:\u001b[0m\u001b[0;34m\u001b[0m\u001b[0;34m\u001b[0m\u001b[0m\n\u001b[1;32m      4\u001b[0m     \u001b[0;34m\"OU Drift\"\u001b[0m\u001b[0;34m\u001b[0m\u001b[0;34m\u001b[0m\u001b[0m\n\u001b[0;32m----> 5\u001b[0;31m     \u001b[0mgamma\u001b[0m\u001b[0;34m,\u001b[0m \u001b[0msigma\u001b[0m \u001b[0;34m=\u001b[0m \u001b[0mp\u001b[0m\u001b[0;34m\u001b[0m\u001b[0;34m\u001b[0m\u001b[0m\n\u001b[0m\u001b[1;32m      6\u001b[0m     \u001b[0;32mreturn\u001b[0m \u001b[0;34m-\u001b[0m \u001b[0mgamma\u001b[0m \u001b[0;34m*\u001b[0m \u001b[0mx\u001b[0m\u001b[0;34m\u001b[0m\u001b[0;34m\u001b[0m\u001b[0m\n\u001b[1;32m      7\u001b[0m \u001b[0;34m\u001b[0m\u001b[0m\n",
      "\u001b[0;31mValueError\u001b[0m: too many values to unpack (expected 2)"
     ]
    }
   ],
   "source": [
    "action_track = action_minimisation_checker(ou_a, instanton, [p, dt])"
   ]
  },
  {
   "cell_type": "code",
   "execution_count": 16,
   "metadata": {},
   "outputs": [
    {
     "ename": "NameError",
     "evalue": "name 'comparison_paths' is not defined",
     "output_type": "error",
     "traceback": [
      "\u001b[0;31m---------------------------------------------------------------------------\u001b[0m",
      "\u001b[0;31mNameError\u001b[0m                                 Traceback (most recent call last)",
      "\u001b[0;32m<ipython-input-16-463dee2e568b>\u001b[0m in \u001b[0;36m<module>\u001b[0;34m\u001b[0m\n\u001b[0;32m----> 1\u001b[0;31m \u001b[0;32mfor\u001b[0m \u001b[0mpath\u001b[0m \u001b[0;32min\u001b[0m \u001b[0mcomparison_paths\u001b[0m\u001b[0;34m:\u001b[0m\u001b[0;34m\u001b[0m\u001b[0;34m\u001b[0m\u001b[0m\n\u001b[0m\u001b[1;32m      2\u001b[0m     \u001b[0maction_track\u001b[0m\u001b[0;34m.\u001b[0m\u001b[0mcompare\u001b[0m\u001b[0;34m(\u001b[0m\u001b[0mpath\u001b[0m\u001b[0;34m)\u001b[0m\u001b[0;34m\u001b[0m\u001b[0;34m\u001b[0m\u001b[0m\n",
      "\u001b[0;31mNameError\u001b[0m: name 'comparison_paths' is not defined"
     ]
    }
   ],
   "source": [
    "for path in comparison_paths:\n",
    "    action_track.compare(path)"
   ]
  },
  {
   "cell_type": "code",
   "execution_count": null,
   "metadata": {},
   "outputs": [],
   "source": [
    "action_track.any_smaller()"
   ]
  },
  {
   "cell_type": "code",
   "execution_count": null,
   "metadata": {},
   "outputs": [],
   "source": [
    "plt.plot(action_track.smaller_list[0][0])\n",
    "plt.plot(instanton)"
   ]
  },
  {
   "cell_type": "code",
   "execution_count": null,
   "metadata": {},
   "outputs": [],
   "source": []
  }
 ],
 "metadata": {
  "kernelspec": {
   "display_name": "Python3 (personal)",
   "language": "python",
   "name": "python3_personal"
  },
  "language_info": {
   "codemirror_mode": {
    "name": "ipython",
    "version": 3
   },
   "file_extension": ".py",
   "mimetype": "text/x-python",
   "name": "python",
   "nbconvert_exporter": "python",
   "pygments_lexer": "ipython3",
   "version": "3.7.7"
  }
 },
 "nbformat": 4,
 "nbformat_minor": 2
}
