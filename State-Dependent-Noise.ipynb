{
 "cells": [
  {
   "cell_type": "code",
   "execution_count": 1,
   "metadata": {},
   "outputs": [],
   "source": [
    "import numpy as np\n",
    "from scipy.optimize import minimize"
   ]
  },
  {
   "cell_type": "code",
   "execution_count": 19,
   "metadata": {},
   "outputs": [],
   "source": [
    "# Needed\n",
    "\n",
    "inst = np.linspace((1, 2), (2, 4), 5)\n",
    "_user_shape = inst.shape\n",
    "_inst = inst.flatten()\n",
    "time = np.linspace(0, 1, 5)\n",
    "\n",
    "gamma1 = 1\n",
    "gamma2 = 0.1\n",
    "r = 0.01\n",
    "eps = 0.01\n",
    "b_args = [gamma1, gamma2, eps, r]"
   ]
  },
  {
   "cell_type": "code",
   "execution_count": 20,
   "metadata": {},
   "outputs": [],
   "source": [
    "def _b(t, phi, s):\n",
    "    \"\"\"Drift term\"\"\"\n",
    "    gamma1, gamma2, eps, r = s\n",
    "    x, T = phi.T\n",
    "    return np.array([- gamma1 * (x + T), -gamma2 * (T - x)]).T"
   ]
  },
  {
   "cell_type": "code",
   "execution_count": 21,
   "metadata": {},
   "outputs": [],
   "source": [
    "def _d(t, phi, s):\n",
    "    \"Diffusion Term\"\n",
    "    gamma1, gamma2, eps, r = s\n",
    "    x, T = phi.T\n",
    "    D = np.zeros((2, 2))\n",
    "    D[0, 0] = x\n",
    "    D[1, 1] = r\n",
    "    return D"
   ]
  },
  {
   "cell_type": "code",
   "execution_count": 28,
   "metadata": {},
   "outputs": [],
   "source": [
    "def _action(path):\n",
    "    \"\"\" Takes a path and computes the FW action along the path when ndim >1. If ndim=1,\n",
    "    object will use _1d_action.\n",
    "\n",
    "    Path input is of form necesseary for scipy.minimise (see parameter explanation).\n",
    "    Finite differences are used to approximate derivatives.\n",
    "    Trapezoidal Rule used to compute integral\n",
    "\n",
    "    Parameters\n",
    "    ----------\n",
    "    path: np array\n",
    "        shape is flat (time * ndim) for use by scipy.minimise\n",
    "        method reshapes into (time, ndim)\n",
    "    \"\"\"\n",
    "    h = path.reshape(_user_shape)                     \n",
    "    v = np.vstack(np.gradient(h, time, 1)[0]) - _b(0, h, b_args)\n",
    "\n",
    "    # Dot product calulcation\n",
    "    v2 = [] \n",
    "    for x in v:\n",
    "        D = _d(0, x, s)\n",
    "        print(x)\n",
    "        v2.append(x.dot(D @ x.T))# NEED TO REWRITE\n",
    "    return 0.5 * np.trapz(v2, x=time)"
   ]
  },
  {
   "cell_type": "code",
   "execution_count": 29,
   "metadata": {},
   "outputs": [
    {
     "name": "stdout",
     "output_type": "stream",
     "text": [
      "[4.  2.1]\n",
      "[4.75  2.125]\n",
      "[5.5  2.15]\n",
      "[6.25  2.175]\n",
      "[7.  2.2]\n"
     ]
    },
    {
     "data": {
      "text/plain": [
       "90.17155468749999"
      ]
     },
     "execution_count": 29,
     "metadata": {},
     "output_type": "execute_result"
    }
   ],
   "source": [
    "_action(inst)"
   ]
  },
  {
   "cell_type": "code",
   "execution_count": null,
   "metadata": {},
   "outputs": [],
   "source": []
  }
 ],
 "metadata": {
  "kernelspec": {
   "display_name": "Python3 (personal)",
   "language": "python",
   "name": "python3_personal"
  },
  "language_info": {
   "codemirror_mode": {
    "name": "ipython",
    "version": 3
   },
   "file_extension": ".py",
   "mimetype": "text/x-python",
   "name": "python",
   "nbconvert_exporter": "python",
   "pygments_lexer": "ipython3",
   "version": "3.7.7"
  }
 },
 "nbformat": 4,
 "nbformat_minor": 2
}
